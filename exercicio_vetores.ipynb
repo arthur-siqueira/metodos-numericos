{
  "nbformat": 4,
  "nbformat_minor": 0,
  "metadata": {
    "colab": {
      "provenance": [],
      "authorship_tag": "ABX9TyNhLxTQrzG4bypznFKF3asm",
      "include_colab_link": true
    },
    "kernelspec": {
      "name": "python3",
      "display_name": "Python 3"
    },
    "language_info": {
      "name": "python"
    }
  },
  "cells": [
    {
      "cell_type": "markdown",
      "metadata": {
        "id": "view-in-github",
        "colab_type": "text"
      },
      "source": [
        "<a href=\"https://colab.research.google.com/github/arthur-siqueira/metodos-numericos/blob/main/exercicio_vetores.ipynb\" target=\"_parent\"><img src=\"https://colab.research.google.com/assets/colab-badge.svg\" alt=\"Open In Colab\"/></a>"
      ]
    },
    {
      "cell_type": "markdown",
      "source": [
        "**Exercise 2.1**"
      ],
      "metadata": {
        "id": "cRbhs7NNqD1K"
      }
    },
    {
      "cell_type": "code",
      "execution_count": 25,
      "metadata": {
        "colab": {
          "base_uri": "https://localhost:8080/",
          "height": 490
        },
        "id": "ybYZzl2pqA_v",
        "outputId": "c2b7e794-f468-4811-f7c3-0c7aa6e55a5f"
      },
      "outputs": [
        {
          "output_type": "display_data",
          "data": {
            "text/plain": [
              "<Figure size 1200x600 with 2 Axes>"
            ],
            "image/png": "[encoded data removed]"
          },
          "metadata": {}
        }
      ],
      "source": [
        "import numpy as np\n",
        "import matplotlib.pyplot as plt\n",
        "\n",
        "# --- 1. Definição dos Vetores ---\n",
        "# Com base na análise visual do gráfico:\n",
        "# Vetor v vai da origem (0,0) até o ponto (1,2)\n",
        "v = np.array([1, 2])\n",
        "\n",
        "# Vetor w vai da origem (0,0) até o ponto (4,-4)\n",
        "w = np.array([4, -4])\n",
        "\n",
        "\n",
        "# --- 2. Cálculos dos Vetores Resultantes ---\n",
        "# Soma: v + w\n",
        "v_plus_w = v + w\n",
        "\n",
        "# Diferença: v - w\n",
        "v_minus_w = v - w\n",
        "\n",
        "\n",
        "# --- 3. Criação dos Gráficos ---\n",
        "# Cria uma figura com dois subplots, um ao lado do outro\n",
        "fig, (ax1, ax2) = plt.subplots(1, 2, figsize=(12, 6))\n",
        "\n",
        "# --- Gráfico A: Soma de Vetores ---\n",
        "ax1.set_title('A) Vectors v, w, and v+w')\n",
        "\n",
        "# Desenha os vetores v e v+w a partir da origem (0,0)\n",
        "ax1.quiver(0, 0, v[0], v[1], angles='xy', scale_units='xy', scale=1, color='black', label='v')\n",
        "ax1.quiver(0, 0, v_plus_w[0], v_plus_w[1], angles='xy', scale_units='xy', scale=1, color='lightgray', label='v+w')\n",
        "\n",
        "# Para a soma, o vetor w começa na ponta do vetor v (regra cabeça-à-cauda)\n",
        "ax1.quiver(v[0], v[1], w[0], w[1], angles='xy', scale_units='xy', scale=1, color='dimgray', label='w') # <-- ALTERAÇÃO\n",
        "\n",
        "\n",
        "# --- Gráfico B: Diferença de Vetores ---\n",
        "ax2.set_title('B) Vectors v, w, and v-w')\n",
        "\n",
        "# Desenha os vetores v e w a partir da origem (0,0)\n",
        "ax2.quiver(0, 0, v[0], v[1], angles='xy', scale_units='xy', scale=1, color='black', label='v')\n",
        "ax2.quiver(0, 0, w[0], w[1], angles='xy', scale_units='xy', scale=1, color='dimgray', label='w')\n",
        "\n",
        "# Para a diferença, o vetor v-w começa na ponta do vetor w e termina na ponta de v\n",
        "ax2.quiver(w[0], w[1], v_minus_w[0], v_minus_w[1], angles='xy', scale_units='xy', scale=1, color='lightgray', label='v-w') # <-- ALTERAÇÃO\n",
        "\n",
        "\n",
        "# --- 4. Estilização de Ambos os Gráficos ---\n",
        "# Aplica as mesmas configurações de estilo para os dois subplots\n",
        "for ax in [ax1, ax2]:\n",
        "    ax.set_xlim(-6, 6)\n",
        "    ax.set_ylim(-6, 6)\n",
        "    ax.set_xticks(np.arange(-6, 7, 2))\n",
        "    ax.set_yticks(np.arange(-6, 7, 2))\n",
        "    ax.grid(True)\n",
        "    ax.set_aspect('equal', adjustable='box') # Garante que a escala de x e y seja a mesma\n",
        "    ax.legend()\n",
        "\n",
        "# Posiciona os eixos no centro para se parecer com o original\n",
        "for ax in [ax1, ax2]:\n",
        "    ax.spines['left'].set_position('zero')\n",
        "    ax.spines['bottom'].set_position('zero')\n",
        "    ax.spines['right'].set_color('none')\n",
        "    ax.spines['top'].set_color('none')\n",
        "\n",
        "# Exibe o gráfico final\n",
        "plt.show()"
      ]
    },
    {
      "cell_type": "markdown",
      "source": [
        "**Exercise 2-2**"
      ],
      "metadata": {
        "id": "5t6a58pt-DJI"
      }
    },
    {
      "cell_type": "code",
      "source": [
        "def calcular_norma(v):\n",
        "  \"\"\"\n",
        "  Calcula a norma (magnitude) de um vetor usando a fórmula Euclidiana.\n",
        "\n",
        "  Args:\n",
        "    v: Um array Numpy representando o vetor.\n",
        "\n",
        "  Returns:\n",
        "    A norma do vetor com um float.\n",
        "  \"\"\"\n",
        "\n",
        "  soma_dos_quadrados = np.sum(v**2)\n",
        "\n",
        "  norma = np.sqrt(soma_dos_quadrados)\n",
        "\n",
        "  return norma\n",
        "\n",
        "print(\"Testando com vetores aleatórios\")\n",
        "\n",
        "# Vetor aleatório com 3 dimensões\n",
        "v1 = np.array([3, 4, 0])\n",
        "minha_norma1 = calcular_norma(v1)\n",
        "numpy_norma1 = np.linalg.norm(v1)\n",
        "print(f\"\\nVetor 1: {v1}\")\n",
        "print(f\"Minha função: {minha_norma1}\")\n",
        "print(f\"Função NumPy:  {numpy_norma1}\")\n",
        "print(f\"Resultados são iguais? {np.isclose(minha_norma1, numpy_norma1)}\")\n",
        "\n",
        "# Vetor aleatório com 5 dimensões\n",
        "v2 = np.random.randint(-10, 10, size=5)\n",
        "minha_norma2 = calcular_norma(v2)\n",
        "numpy_norma2 = np.linalg.norm(v2)\n",
        "\n",
        "print(f\"\\nVetor 2: {v2}\")\n",
        "print(f\"Minha função: {minha_norma2}\")\n",
        "print(f\"Função NumPy:  {numpy_norma2}\")\n",
        "print(f\"Resultados são iguais? {np.isclose(minha_norma2, numpy_norma2)}\")\n",
        "\n",
        "# Vetor aleatório com 10 dimensões\n",
        "v3 = np.random.rand(10) * 100 # Vetor com floats\n",
        "minha_norma3 = calcular_norma(v3)\n",
        "numpy_norma3 = np.linalg.norm(v3)\n",
        "\n",
        "print(f\"\\nVetor 3 (com floats): {v3.round(2)}\")\n",
        "print(f\"Minha função: {minha_norma3}\")\n",
        "print(f\"Função NumPy:  {numpy_norma3}\")\n",
        "print(f\"Resultados são iguais? {np.isclose(minha_norma3, numpy_norma3)}\")"
      ],
      "metadata": {
        "colab": {
          "base_uri": "https://localhost:8080/"
        },
        "id": "AcLaWGGu-Gj7",
        "outputId": "6e4ded55-849c-4e4b-f1c5-1136c9461ef5"
      },
      "execution_count": 26,
      "outputs": [
        {
          "output_type": "stream",
          "name": "stdout",
          "text": [
            "Testando com vetores aleatórios\n",
            "\n",
            "Vetor 1: [3 4 0]\n",
            "Minha função: 5.0\n",
            "Função NumPy:  5.0\n",
            "Resultados são iguais? True\n",
            "\n",
            "Vetor 2: [2 1 8 6 6]\n",
            "Minha função: 11.874342087037917\n",
            "Função NumPy:  11.874342087037917\n",
            "Resultados são iguais? True\n",
            "\n",
            "Vetor 3 (com floats): [90.2  54.35 79.3  67.34 44.4  28.    1.13 45.12 36.81 77.8 ]\n",
            "Minha função: 184.69747053672666\n",
            "Função NumPy:  184.69747053672666\n",
            "Resultados são iguais? True\n"
          ]
        }
      ]
    },
    {
      "cell_type": "markdown",
      "source": [
        "**Exercise 2-3**"
      ],
      "metadata": {
        "id": "puTeiZ98ETlw"
      }
    },
    {
      "cell_type": "code",
      "source": [
        "def vetor_unitario(v):\n",
        "    \"\"\"\n",
        "    Calcula o vetor unitário na mesma direção do vetor de entrada.\n",
        "\n",
        "    Args:\n",
        "        v: Um array NumPy representando o vetor.\n",
        "\n",
        "    Returns:\n",
        "        Um array NumPy representando o vetor unitário, ou o próprio vetor\n",
        "        se a entrada for o vetor nulo.\n",
        "    \"\"\"\n",
        "    # Calcula a norma do vetor\n",
        "    norma = np.linalg.norm(v)\n",
        "\n",
        "    # Caso especial: o vetor nulo\n",
        "    if norma == 0:\n",
        "        # A divisão por zero é indefinida. Retornamos o próprio vetor nulo.\n",
        "        return v\n",
        "\n",
        "    # Retorna o vetor dividido pela sua norma\n",
        "    return v / norma\n",
        "\n",
        "# Teste com um vetor normal\n",
        "v_teste = np.array([3, 4])\n",
        "unit_v = vetor_unitario(v_teste)\n",
        "norma_do_unitario = np.linalg.norm(unit_v)\n",
        "\n",
        "print(\"--- Testando a função de vetor unitário ---\")\n",
        "print(f\"\\nVetor original: {v_teste}\")\n",
        "print(f\"Vetor unitário: {unit_v}\")\n",
        "print(f\"Norma do vetor unitário resultante: {norma_do_unitario:.2f}\") # Deve ser 1.0\n",
        "\n",
        "# Teste com o vetor nulo\n",
        "v_zeros = np.array([0, 0, 0])\n",
        "unit_zeros = vetor_unitario(v_zeros)\n",
        "\n",
        "print(f\"\\nVetor original: {v_zeros}\")\n",
        "print(f\"Resultado para o vetor nulo: {unit_zeros}\")"
      ],
      "metadata": {
        "colab": {
          "base_uri": "https://localhost:8080/"
        },
        "id": "Q8XGrzptEW8F",
        "outputId": "8d02f8a5-a68a-4581-c716-15c2fb7e6b9c"
      },
      "execution_count": 27,
      "outputs": [
        {
          "output_type": "stream",
          "name": "stdout",
          "text": [
            "--- Testando a função de vetor unitário ---\n",
            "\n",
            "Vetor original: [3 4]\n",
            "Vetor unitário: [0.6 0.8]\n",
            "Norma do vetor unitário resultante: 1.00\n",
            "\n",
            "Vetor original: [0 0 0]\n",
            "Resultado para o vetor nulo: [0 0 0]\n"
          ]
        }
      ]
    },
    {
      "cell_type": "markdown",
      "source": [
        "**Exercise 2-4**"
      ],
      "metadata": {
        "id": "GuLvmTrJFa_y"
      }
    },
    {
      "cell_type": "code",
      "source": [
        "def criar_vetor_com_magnitude(v, mag_desejada):\n",
        "    \"\"\"\n",
        "    Cria um novo vetor na mesma direção de v mas com uma magnitude específica.\n",
        "    \"\"\"\n",
        "    # Calcula a norma (magnitude) do vetor de entrada\n",
        "    norma_v = np.linalg.norm(v)\n",
        "\n",
        "    # Evita divisão por zero se o vetor de entrada for o vetor nulo\n",
        "    if norma_v == 0:\n",
        "        print(\"Aviso: Vetor nulo de entrada. Retornando um vetor nulo.\")\n",
        "        return v\n",
        "\n",
        "    # Calcula o vetor unitário e o escala pela magnitude desejada\n",
        "    v_novo = v / norma_v * mag_desejada\n",
        "    return v_novo\n",
        "\n",
        "# Demonstração\n",
        "v = np.array([1, 2, 3])\n",
        "mag_original = np.linalg.norm(v)\n",
        "mag_desejada = 10\n",
        "\n",
        "v_novo = criar_vetor_com_magnitude(v, mag_desejada)\n",
        "mag_nova = np.linalg.norm(v_novo)\n",
        "\n",
        "print(f\"Vetor Original: {v}, Magnitude Original: {mag_original:.2f}\")\n",
        "print(f\"Vetor Novo: {v_novo}, Magnitude Nova: {mag_nova:.2f}\")"
      ],
      "metadata": {
        "colab": {
          "base_uri": "https://localhost:8080/"
        },
        "id": "pY-djt0gFeLO",
        "outputId": "b2490bc3-a0df-4fd2-bdf5-5caefd05d1c8"
      },
      "execution_count": 28,
      "outputs": [
        {
          "output_type": "stream",
          "name": "stdout",
          "text": [
            "Vetor Original: [1 2 3], Magnitude Original: 3.74\n",
            "Vetor Novo: [2.67261242 5.34522484 8.01783726], Magnitude Nova: 10.00\n"
          ]
        }
      ]
    },
    {
      "cell_type": "markdown",
      "source": [
        "**Exercise 2-5**"
      ],
      "metadata": {
        "id": "V4aUo-_9Fm7m"
      }
    },
    {
      "cell_type": "code",
      "source": [
        "def transpor_manual(v_linha):\n",
        "    \"\"\"\n",
        "    Transpõe um vetor linha 1D para um vetor coluna 2D.\n",
        "    \"\"\"\n",
        "    # Cria um array 2D de zeros com o formato (n, 1)\n",
        "    v_coluna = np.zeros((len(v_linha), 1))\n",
        "\n",
        "    # Itera sobre o vetor linha para preencher o vetor coluna\n",
        "    for i in range(len(v_linha)):\n",
        "        v_coluna[i, 0] = v_linha[i]\n",
        "\n",
        "    return v_coluna\n",
        "\n",
        "# Demonstração\n",
        "v_linha = np.array([1, 2, 3, 4])\n",
        "v_coluna = transpor_manual(v_linha)\n",
        "\n",
        "print(f\"Vetor Linha Original (shape {v_linha.shape}):\\n{v_linha}\")\n",
        "print(f\"Vetor Coluna Transposto (shape {v_coluna.shape}):\\n{v_coluna}\")"
      ],
      "metadata": {
        "colab": {
          "base_uri": "https://localhost:8080/"
        },
        "id": "BxpZkcCoFpG2",
        "outputId": "a4eba8f8-875a-4964-d835-892f66e8bef4"
      },
      "execution_count": 29,
      "outputs": [
        {
          "output_type": "stream",
          "name": "stdout",
          "text": [
            "Vetor Linha Original (shape (4,)):\n",
            "[1 2 3 4]\n",
            "Vetor Coluna Transposto (shape (4, 1)):\n",
            "[[1.]\n",
            " [2.]\n",
            " [3.]\n",
            " [4.]]\n"
          ]
        }
      ]
    },
    {
      "cell_type": "markdown",
      "source": [
        "**Exercise 2-6**"
      ],
      "metadata": {
        "id": "sL39BXeuFsuW"
      }
    },
    {
      "cell_type": "code",
      "source": [
        "# Demonstração\n",
        "v = np.array([2, 5, -3, 1])\n",
        "\n",
        "norma_ao_quadrado = np.linalg.norm(v)**2\n",
        "produto_escalar_consigo = np.dot(v, v)\n",
        "\n",
        "print(f\"Vetor: {v}\")\n",
        "print(f\"Norma ao Quadrado: {norma_ao_quadrado}\")\n",
        "print(f\"Produto Escalar consigo mesmo: {produto_escalar_consigo}\")\n",
        "print(f\"Os resultados são iguais? {np.isclose(norma_ao_quadrado, produto_escalar_consigo)}\")"
      ],
      "metadata": {
        "colab": {
          "base_uri": "https://localhost:8080/"
        },
        "id": "SoxMVtrhFsaI",
        "outputId": "25d65903-3f5f-42b4-b12d-4aad518b7ea9"
      },
      "execution_count": 30,
      "outputs": [
        {
          "output_type": "stream",
          "name": "stdout",
          "text": [
            "Vetor: [ 2  5 -3  1]\n",
            "Norma ao Quadrado: 39.0\n",
            "Produto Escalar consigo mesmo: 39\n",
            "Os resultados são iguais? True\n"
          ]
        }
      ]
    },
    {
      "cell_type": "markdown",
      "source": [
        "**Exercise 2-7**"
      ],
      "metadata": {
        "id": "A6mu91vAF1WE"
      }
    },
    {
      "cell_type": "code",
      "source": [
        "# Demonstração\n",
        "a = np.random.randn(5)\n",
        "b = np.random.randn(5)\n",
        "\n",
        "aTb = np.dot(a, b)\n",
        "bTa = np.dot(b, a)\n",
        "\n",
        "print(f\"a.T * b = {aTb:.4f}\")\n",
        "print(f\"b.T * a = {bTa:.4f}\")\n",
        "print(f\"Os resultados são iguais? {np.isclose(aTb, bTa)}\")"
      ],
      "metadata": {
        "colab": {
          "base_uri": "https://localhost:8080/"
        },
        "id": "EKkgUoaRF4U1",
        "outputId": "398f81d9-b9a1-4670-9a97-091d42e798ff"
      },
      "execution_count": 31,
      "outputs": [
        {
          "output_type": "stream",
          "name": "stdout",
          "text": [
            "a.T * b = 1.0111\n",
            "b.T * a = 1.0111\n",
            "Os resultados são iguais? True\n"
          ]
        }
      ]
    },
    {
      "cell_type": "markdown",
      "source": [
        "**Exercise 2-8**"
      ],
      "metadata": {
        "id": "J0fUiFrcF8CN"
      }
    },
    {
      "cell_type": "code",
      "source": [
        "# Demonstração\n",
        "a = np.array([1, 2])\n",
        "b = np.array([2, 1])\n",
        "\n",
        "# Calcular beta (escalar da projeção)\n",
        "beta = np.dot(a, b) / np.dot(a, a)\n",
        "\n",
        "# Calcular o vetor de projeção\n",
        "proj_b_em_a = beta * a\n",
        "\n",
        "# Componente perpendicular\n",
        "perp_comp = b - proj_b_em_a\n",
        "\n",
        "print(\"Gerando gráfico da projeção vetorial...\")\n",
        "\n",
        "plt.figure(figsize=(6, 6))\n",
        "# Plota os vetores a e b\n",
        "plt.arrow(0, 0, a[0], a[1], head_width=0.1, head_length=0.1, fc='k', ec='k', label='a')\n",
        "plt.arrow(0, 0, b[0], b[1], head_width=0.1, head_length=0.1, fc='k', ec='k', label='b')\n",
        "\n",
        "# Plota o vetor de projeção\n",
        "plt.arrow(0, 0, proj_b_em_a[0], proj_b_em_a[1], head_width=0.08, head_length=0.08, fc='gray', ec='gray', label=r'$\\beta$a (projeção)')\n",
        "\n",
        "# Plota a linha do componente perpendicular\n",
        "plt.plot([proj_b_em_a[0], b[0]], [proj_b_em_a[1], b[1]], 'k--', label=r'b - $\\beta$a')\n",
        "\n",
        "plt.xlim(-1, 3)\n",
        "plt.ylim(-1, 3)\n",
        "plt.grid()\n",
        "plt.axhline(0, color='black', linewidth=0.5)\n",
        "plt.axvline(0, color='black', linewidth=0.5)\n",
        "plt.gca().set_aspect('equal', adjustable='box')\n",
        "plt.legend()\n",
        "plt.title(\"Figura 2-6: Projeção de b em a\")\n",
        "plt.show()"
      ],
      "metadata": {
        "colab": {
          "base_uri": "https://localhost:8080/",
          "height": 562
        },
        "id": "prl8T-ZmGBse",
        "outputId": "02834458-9449-4737-a0ca-b53135b49dde"
      },
      "execution_count": 32,
      "outputs": [
        {
          "output_type": "stream",
          "name": "stdout",
          "text": [
            "Gerando gráfico da projeção vetorial...\n"
          ]
        },
        {
          "output_type": "display_data",
          "data": {
            "text/plain": [
              "<Figure size 600x600 with 1 Axes>"
            ],
            "image/png": "[encoded data removed]"
          },
          "metadata": {}
        }
      ]
    },
    {
      "cell_type": "markdown",
      "source": [
        "**Exercise 2-9**"
      ],
      "metadata": {
        "id": "o7wEHOoxGHW-"
      }
    },
    {
      "cell_type": "code",
      "source": [
        "t = np.array([0.75, -0.78])\n",
        "r = np.array([1.3, -0.1])\n",
        "\n",
        "# 1. Cálculo dos componentes\n",
        "t_par = r * (np.dot(r, t) / np.dot(r, r))\n",
        "t_perp = t - t_par\n",
        "\n",
        "fig, ax = plt.subplots(figsize=(8, 6))\n",
        "\n",
        "# Plota o vetor t\n",
        "ax.arrow(0, 0, t[0], t[1], head_width=0.03, head_length=0.05, fc='black', ec='black', linewidth=2, label='t')\n",
        "\n",
        "# Plota o vetor r\n",
        "ax.arrow(0, 0, r[0], r[1], head_width=0.03, head_length=0.05, fc='lightgray', ec='lightgray', linewidth=2, label='r')\n",
        "\n",
        "# Plota o componente paralelo t_par\n",
        "ax.arrow(0, 0, t_par[0], t_par[1], head_width=0.03, head_length=0.05, fc='black', ec='black', linestyle='--', linewidth=2, label=r'$t_{||}$')\n",
        "\n",
        "# Plota o componente perpendicular t_perp\n",
        "ax.arrow(0, 0, t_perp[0], t_perp[1], head_width=0.03, head_length=0.05, fc='black', ec='black', linestyle=':', linewidth=2, label=r'$t_{\\perp}$')\n",
        "\n",
        "ax.set_xlim(-0.1, 1.4)\n",
        "ax.set_ylim(-1.1, 0.3)\n",
        "ax.grid(True)\n",
        "ax.axhline(0, color='black', linewidth=0.5)\n",
        "ax.axvline(0, color='black', linewidth=0.5)\n",
        "ax.set_aspect('equal', adjustable='box')\n",
        "ax.legend(loc='upper right')\n",
        "\n",
        "plt.show()"
      ],
      "metadata": {
        "colab": {
          "base_uri": "https://localhost:8080/",
          "height": 522
        },
        "id": "Z21507JyGJY-",
        "outputId": "aa26bb7d-b030-4a4d-c0d9-6fe5e145d726"
      },
      "execution_count": 33,
      "outputs": [
        {
          "output_type": "display_data",
          "data": {
            "text/plain": [
              "<Figure size 800x600 with 1 Axes>"
            ],
            "image/png": "[encoded data removed]"
          },
          "metadata": {}
        }
      ]
    },
    {
      "cell_type": "markdown",
      "source": [
        "**Exercise 2-10**"
      ],
      "metadata": {
        "id": "pMqiP5C-GUS2"
      }
    },
    {
      "cell_type": "code",
      "source": [
        "# Cálculo do componente paralelo COM O BUG\n",
        "t_par_bug = r * (np.dot(r, t) / np.dot(t, t)) # Denominador errado\n",
        "\n",
        "# Cálculo do componente perpendicular com base no componente bugado\n",
        "t_perp_bug = t - t_par_bug\n",
        "\n",
        "print(f\"Componente Paralelo com Bug: {t_par_bug}\")\n",
        "print(f\"Componente Perpendicular com Bug: {t_perp_bug}\")\n",
        "\n",
        "# Sanity-Check: O componente perpendicular é ortogonal a r?\n",
        "# o resultado correto para comparação\n",
        "dot_correto = np.dot(t_perp, r)\n",
        "# resultado com bug\n",
        "dot_bugado = np.dot(t_perp_bug, r)\n",
        "\n",
        "print(\"\\n--- Verificação de Sanidade (Sanity-Check) ---\")\n",
        "print(\"Um resultado correto deve ter o produto escalar entre t_perp e r igual a zero.\")\n",
        "print(f\"Produto Escalar CORRETO (t_perp . r): {dot_correto:.15f}\")\n",
        "print(f\"Produto Escalar COM BUG (t_perp_bug . r): {dot_bugado:.15f}\")\n",
        "\n",
        "if not np.isclose(dot_bugado, 0):\n",
        "    print(\"\\nConclusão: O Sanity-Check FALHOU. O produto escalar não é zero, provando que o código com bug está incorreto.\")\n",
        "else:\n",
        "    print(\"\\nConclusão: O Sanity-Check PASSOU. Isto seria inesperado.\")"
      ],
      "metadata": {
        "colab": {
          "base_uri": "https://localhost:8080/"
        },
        "id": "Lv3t2i_cGaiI",
        "outputId": "7d4e8008-f524-4226-fdad-11becd5c4b5f"
      },
      "execution_count": 34,
      "outputs": [
        {
          "output_type": "stream",
          "name": "stdout",
          "text": [
            "Componente Paralelo com Bug: [ 1.16910069 -0.08993082]\n",
            "Componente Perpendicular com Bug: [-0.41910069 -0.69006918]\n",
            "\n",
            "--- Verificação de Sanidade (Sanity-Check) ---\n",
            "Um resultado correto deve ter o produto escalar entre t_perp e r igual a zero.\n",
            "Produto Escalar CORRETO (t_perp . r): 0.000000000000000\n",
            "Produto Escalar COM BUG (t_perp_bug . r): -0.475823981552652\n",
            "\n",
            "Conclusão: O Sanity-Check FALHOU. O produto escalar não é zero, provando que o código com bug está incorreto.\n"
          ]
        }
      ]
    },
    {
      "cell_type": "markdown",
      "source": [
        "**Exercise 3-1**"
      ],
      "metadata": {
        "id": "16pj7t52IdoD"
      }
    },
    {
      "cell_type": "code",
      "source": [
        "s1, s2, s3 = 2, -3, 5\n",
        "v1 = np.array([4, 1, 0])\n",
        "v2 = np.array([-1, 3, 2])\n",
        "v3 = np.array([0, -2, 1])\n",
        "\n",
        "resultado_direto = s1*v1 + s2*v2 + s3*v3\n",
        "\n",
        "print(f\"Cálculo direto (sem loop): {resultado_direto}\")\n",
        "\n",
        "escalares = [s1, s2, s3]\n",
        "vetores = [v1, v2, v3]\n",
        "\n",
        "dimensao = vetores[0].shape\n",
        "resultado_com_loop = np.zeros(dimensao)\n",
        "\n",
        "for escalar, vetor in zip(escalares, vetores):\n",
        "    resultado_com_loop += escalar * vetor # Acumula o resultado\n",
        "\n",
        "print(f\"Cálculo com loop:         {resultado_com_loop}\")\n",
        "\n",
        "sao_iguais = np.allclose(resultado_direto, resultado_com_loop)\n",
        "\n",
        "print(f\"\\nOs resultados são os mesmos? {sao_iguais}\")"
      ],
      "metadata": {
        "colab": {
          "base_uri": "https://localhost:8080/"
        },
        "id": "c586F9OuIgUC",
        "outputId": "d286c86d-4012-4e9d-d9b4-c0a64d40503d"
      },
      "execution_count": 35,
      "outputs": [
        {
          "output_type": "stream",
          "name": "stdout",
          "text": [
            "Cálculo direto (sem loop): [ 11 -17  -1]\n",
            "Cálculo com loop:         [ 11. -17.  -1.]\n",
            "\n",
            "Os resultados são os mesmos? True\n"
          ]
        }
      ]
    },
    {
      "cell_type": "markdown",
      "source": [
        "**Exercise 3-2**"
      ],
      "metadata": {
        "id": "kkMmrwcUIzKg"
      }
    },
    {
      "cell_type": "code",
      "source": [
        "print(\"Dimensões Diferentes\")\n",
        "\n",
        "# Listas com um vetor de dimensão errada\n",
        "escalares_dim = [2, -3, 5, 4]\n",
        "vetores_dim = [\n",
        "    np.array([4, 1, 0]),     # R³\n",
        "    np.array([-1, 3, 2]),    # R³\n",
        "    np.array([0, -2, 1]),    # R³\n",
        "    np.array([1, 2, 3, 4])   # R⁴ <-- Vetor com dimensão diferente\n",
        "]\n",
        "\n",
        "# Inicializa o resultado com base no primeiro vetor (R³)\n",
        "resultado_dim = np.zeros(vetores_dim[0].shape)\n",
        "\n",
        "try:\n",
        "    for escalar, vetor in zip(escalares_dim, vetores_dim):\n",
        "        print(f\"Adicionando {escalar} * {vetor}\")\n",
        "        resultado_dim += escalar * vetor\n",
        "except ValueError as e:\n",
        "    print(\"\\nERRO CAPTURADO!\")\n",
        "    print(f\"Mensagem de erro do NumPy: {e}\")\n",
        "    print(\"\\nExplicação: O erro ocorreu ao tentar somar um vetor de R⁴ ao nosso vetor de resultado, que é R³.\")\n",
        "    print(\"A adição de vetores com dimensões diferentes não é permitida.\")"
      ],
      "metadata": {
        "colab": {
          "base_uri": "https://localhost:8080/"
        },
        "id": "cCkwA8j3I6uG",
        "outputId": "c8a3fdb3-ba3f-4482-8602-d6f3bb997a55"
      },
      "execution_count": 36,
      "outputs": [
        {
          "output_type": "stream",
          "name": "stdout",
          "text": [
            "Dimensões Diferentes\n",
            "Adicionando 2 * [4 1 0]\n",
            "Adicionando -3 * [-1  3  2]\n",
            "Adicionando 5 * [ 0 -2  1]\n",
            "Adicionando 4 * [1 2 3 4]\n",
            "\n",
            "ERRO CAPTURADO!\n",
            "Mensagem de erro do NumPy: operands could not be broadcast together with shapes (3,) (4,) (3,) \n",
            "\n",
            "Explicação: O erro ocorreu ao tentar somar um vetor de R⁴ ao nosso vetor de resultado, que é R³.\n",
            "A adição de vetores com dimensões diferentes não é permitida.\n"
          ]
        }
      ]
    },
    {
      "cell_type": "code",
      "source": [
        "print(\"Mais Escalares que Vetores\")\n",
        "\n",
        "# 4 escalares e 3 vetores\n",
        "escalares_mais = [2, -3, 5, 999] # O último escalar (999) será ignorado\n",
        "vetores_menos = [\n",
        "    np.array([4, 1, 0]),\n",
        "    np.array([-1, 3, 2]),\n",
        "    np.array([0, -2, 1])\n",
        "]\n",
        "\n",
        "resultado_esc_mais = np.zeros(vetores_menos[0].shape)\n",
        "\n",
        "for escalar, vetor in zip(escalares_mais, vetores_menos):\n",
        "    print(f\"Usando escalar {escalar} e vetor {vetor}\")\n",
        "    resultado_esc_mais += escalar * vetor\n",
        "\n",
        "print(f\"\\nResultado final: {resultado_esc_mais}\")\n",
        "print(\"Explicação: O laço parou após o terceiro par, pois a lista de vetores acabou.\")\n",
        "print(\"O escalar '999' nunca foi usado.\")"
      ],
      "metadata": {
        "colab": {
          "base_uri": "https://localhost:8080/"
        },
        "id": "xKauN5hCI8tH",
        "outputId": "03e4bc94-e167-4373-ea46-1c911d4abac9"
      },
      "execution_count": 37,
      "outputs": [
        {
          "output_type": "stream",
          "name": "stdout",
          "text": [
            "Mais Escalares que Vetores\n",
            "Usando escalar 2 e vetor [4 1 0]\n",
            "Usando escalar -3 e vetor [-1  3  2]\n",
            "Usando escalar 5 e vetor [ 0 -2  1]\n",
            "\n",
            "Resultado final: [ 11. -17.  -1.]\n",
            "Explicação: O laço parou após o terceiro par, pois a lista de vetores acabou.\n",
            "O escalar '999' nunca foi usado.\n"
          ]
        }
      ]
    }
  ]
}