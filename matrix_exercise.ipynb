{
  "nbformat": 4,
  "nbformat_minor": 0,
  "metadata": {
    "colab": {
      "provenance": [],
      "authorship_tag": "ABX9TyMWUARCWkHDCoQxdzeUnNgT",
      "include_colab_link": true
    },
    "kernelspec": {
      "name": "python3",
      "display_name": "Python 3"
    },
    "language_info": {
      "name": "python"
    }
  },
  "cells": [
    {
      "cell_type": "markdown",
      "metadata": {
        "id": "view-in-github",
        "colab_type": "text"
      },
      "source": [
        "<a href=\"https://colab.research.google.com/github/arthur-siqueira/metodos-numericos/blob/main/matrix_exercise.ipynb\" target=\"_parent\"><img src=\"https://colab.research.google.com/assets/colab-badge.svg\" alt=\"Open In Colab\"/></a>"
      ]
    },
    {
      "cell_type": "markdown",
      "source": [
        "**Exercise 5-1**"
      ],
      "metadata": {
        "id": "ngxo-5bWC3Hl"
      }
    },
    {
      "cell_type": "code",
      "execution_count": 1,
      "metadata": {
        "colab": {
          "base_uri": "https://localhost:8080/"
        },
        "id": "HeqaocBPsd6Y",
        "outputId": "50a98185-5ac6-400f-d66a-8010701029b7"
      },
      "outputs": [
        {
          "output_type": "stream",
          "name": "stdout",
          "text": [
            "Matriz criada:\n",
            "[[ 0  1  2  3]\n",
            " [ 4  5  6  7]\n",
            " [ 8  9 10 11]]\n",
            "--------------------\n",
            "The matrix element at index (1,3) is 7.\n"
          ]
        }
      ],
      "source": [
        "import numpy as np\n",
        "\n",
        "matriz = np.arange(12).reshape(3, 4)\n",
        "\n",
        "print(\"Matriz criada:\")\n",
        "print(matriz)\n",
        "print(\"-\" * 20)\n",
        "\n",
        "linha_idx = 1\n",
        "coluna_idx = 3\n",
        "\n",
        "# Extrai o elemento usando os índices definidos\n",
        "elemento = matriz[linha_idx, coluna_idx]\n",
        "\n",
        "print(f\"The matrix element at index ({linha_idx},{coluna_idx}) is {elemento}.\")"
      ]
    },
    {
      "cell_type": "markdown",
      "source": [
        "**Exercise 5-2**"
      ],
      "metadata": {
        "id": "7PcdffS4Uq1T"
      }
    },
    {
      "cell_type": "code",
      "source": [
        "# Cria a matriz C original (10x10 com números de 0 a 99)\n",
        "matrix_C = np.arange(100).reshape(10, 10)\n",
        "\n",
        "print(\"Matriz Original C (10x10):\")\n",
        "print(matrix_C)\n",
        "print(\"\\n\" + \"-\"*30 + \"\\n\")\n",
        "\n",
        "# 2. Usa fatiamento (slicing) para extrair a submatriz C1\n",
        "# O slice [:5, :5] pega as linhas do índice 0 até 4 e as colunas do índice 0 até 4.\n",
        "submatrix_C1 = matrix_C[:5, :5]\n",
        "\n",
        "print(\"Submatriz Extraída C1 (5x5):\")\n",
        "print(submatrix_C1)"
      ],
      "metadata": {
        "colab": {
          "base_uri": "https://localhost:8080/"
        },
        "id": "pWRNibaVUqfk",
        "outputId": "e076a287-a5e4-493c-ecfe-97b47feeca41"
      },
      "execution_count": 2,
      "outputs": [
        {
          "output_type": "stream",
          "name": "stdout",
          "text": [
            "Matriz Original C (10x10):\n",
            "[[ 0  1  2  3  4  5  6  7  8  9]\n",
            " [10 11 12 13 14 15 16 17 18 19]\n",
            " [20 21 22 23 24 25 26 27 28 29]\n",
            " [30 31 32 33 34 35 36 37 38 39]\n",
            " [40 41 42 43 44 45 46 47 48 49]\n",
            " [50 51 52 53 54 55 56 57 58 59]\n",
            " [60 61 62 63 64 65 66 67 68 69]\n",
            " [70 71 72 73 74 75 76 77 78 79]\n",
            " [80 81 82 83 84 85 86 87 88 89]\n",
            " [90 91 92 93 94 95 96 97 98 99]]\n",
            "\n",
            "------------------------------\n",
            "\n",
            "Submatriz Extraída C1 (5x5):\n",
            "[[ 0  1  2  3  4]\n",
            " [10 11 12 13 14]\n",
            " [20 21 22 23 24]\n",
            " [30 31 32 33 34]\n",
            " [40 41 42 43 44]]\n"
          ]
        }
      ]
    }
  ]
}