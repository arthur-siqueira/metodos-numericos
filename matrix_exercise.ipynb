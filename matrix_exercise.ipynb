{
  "nbformat": 4,
  "nbformat_minor": 0,
  "metadata": {
    "colab": {
      "provenance": [],
      "authorship_tag": "ABX9TyPAoUMgXDUoWmyNAWJQbsXv",
      "include_colab_link": true
    },
    "kernelspec": {
      "name": "python3",
      "display_name": "Python 3"
    },
    "language_info": {
      "name": "python"
    }
  },
  "cells": [
    {
      "cell_type": "markdown",
      "metadata": {
        "id": "view-in-github",
        "colab_type": "text"
      },
      "source": [
        "<a href=\"https://colab.research.google.com/github/arthur-siqueira/metodos-numericos/blob/main/matrix_exercise.ipynb\" target=\"_parent\"><img src=\"https://colab.research.google.com/assets/colab-badge.svg\" alt=\"Open In Colab\"/></a>"
      ]
    },
    {
      "cell_type": "markdown",
      "source": [
        "**Exercise 5-1**"
      ],
      "metadata": {
        "id": "ngxo-5bWC3Hl"
      }
    },
    {
      "cell_type": "code",
      "execution_count": 1,
      "metadata": {
        "colab": {
          "base_uri": "https://localhost:8080/"
        },
        "id": "HeqaocBPsd6Y",
        "outputId": "6d5fc024-0d6f-4b00-aa4f-02125be193a2"
      },
      "outputs": [
        {
          "output_type": "stream",
          "name": "stdout",
          "text": [
            "Matriz criada:\n",
            "[[ 0  1  2  3]\n",
            " [ 4  5  6  7]\n",
            " [ 8  9 10 11]]\n",
            "--------------------\n",
            "The matrix element at index (1,3) is 7.\n"
          ]
        }
      ],
      "source": [
        "import numpy as np\n",
        "\n",
        "matriz = np.arange(12).reshape(3, 4)\n",
        "\n",
        "print(\"Matriz criada:\")\n",
        "print(matriz)\n",
        "print(\"-\" * 20)\n",
        "\n",
        "linha_idx = 1\n",
        "coluna_idx = 3\n",
        "\n",
        "# Extrai o elemento usando os índices definidos\n",
        "elemento = matriz[linha_idx, coluna_idx]\n",
        "\n",
        "print(f\"The matrix element at index ({linha_idx},{coluna_idx}) is {elemento}.\")"
      ]
    },
    {
      "cell_type": "markdown",
      "source": [
        "**Exercise 5-2**"
      ],
      "metadata": {
        "id": "7PcdffS4Uq1T"
      }
    },
    {
      "cell_type": "code",
      "source": [
        "# Cria a matriz C original (10x10 com números de 0 a 99)\n",
        "matrix_C = np.arange(100).reshape(10, 10)\n",
        "\n",
        "print(\"Matriz Original C (10x10):\")\n",
        "print(matrix_C)\n",
        "print(\"\\n\" + \"-\"*30 + \"\\n\")\n",
        "\n",
        "# 2. Usa fatiamento (slicing) para extrair a submatriz C1\n",
        "# O slice [:5, :5] pega as linhas do índice 0 até 4 e as colunas do índice 0 até 4.\n",
        "submatrix_C1 = matrix_C[:5, :5]\n",
        "\n",
        "print(\"Submatriz Extraída C1 (5x5):\")\n",
        "print(submatrix_C1)"
      ],
      "metadata": {
        "colab": {
          "base_uri": "https://localhost:8080/"
        },
        "id": "pWRNibaVUqfk",
        "outputId": "5408ed79-d2e5-4c3a-b644-5621438cc8d3"
      },
      "execution_count": 2,
      "outputs": [
        {
          "output_type": "stream",
          "name": "stdout",
          "text": [
            "Matriz Original C (10x10):\n",
            "[[ 0  1  2  3  4  5  6  7  8  9]\n",
            " [10 11 12 13 14 15 16 17 18 19]\n",
            " [20 21 22 23 24 25 26 27 28 29]\n",
            " [30 31 32 33 34 35 36 37 38 39]\n",
            " [40 41 42 43 44 45 46 47 48 49]\n",
            " [50 51 52 53 54 55 56 57 58 59]\n",
            " [60 61 62 63 64 65 66 67 68 69]\n",
            " [70 71 72 73 74 75 76 77 78 79]\n",
            " [80 81 82 83 84 85 86 87 88 89]\n",
            " [90 91 92 93 94 95 96 97 98 99]]\n",
            "\n",
            "------------------------------\n",
            "\n",
            "Submatriz Extraída C1 (5x5):\n",
            "[[ 0  1  2  3  4]\n",
            " [10 11 12 13 14]\n",
            " [20 21 22 23 24]\n",
            " [30 31 32 33 34]\n",
            " [40 41 42 43 44]]\n"
          ]
        }
      ]
    },
    {
      "cell_type": "markdown",
      "source": [
        "**Exercise 5-3**"
      ],
      "metadata": {
        "id": "0VIJrG6Jr3NY"
      }
    },
    {
      "cell_type": "code",
      "source": [
        "# Cria a matriz original C (10x10 com números de 0 a 99)\n",
        "matriz_C = np.arange(100).reshape(10, 10)\n",
        "\n",
        "print(\"Matriz Original C:\")\n",
        "print(matriz_C)\n",
        "print(\"\\n\" + \"-\"*40 + \"\\n\")\n",
        "\n",
        "# Extrai os quatro blocos 5x5 usando fatiamento (slicing)\n",
        "bloco_superior_esquerdo = matriz_C[:5, :5]\n",
        "bloco_superior_direito = matriz_C[:5, 5:]\n",
        "bloco_inferior_esquerdo = matriz_C[5:, :5]\n",
        "bloco_inferior_direito = matriz_C[5:, 5:]\n",
        "\n",
        "matriz_reorganizada = np.block([\n",
        "    [bloco_inferior_direito, bloco_inferior_esquerdo],\n",
        "    [bloco_superior_direito, bloco_superior_esquerdo]\n",
        "])"
      ],
      "metadata": {
        "colab": {
          "base_uri": "https://localhost:8080/"
        },
        "id": "XzSOnG_qr7K1",
        "outputId": "71321e9b-f4cb-4235-81f9-e6685ef50eff"
      },
      "execution_count": 3,
      "outputs": [
        {
          "output_type": "stream",
          "name": "stdout",
          "text": [
            "Matriz Original C:\n",
            "[[ 0  1  2  3  4  5  6  7  8  9]\n",
            " [10 11 12 13 14 15 16 17 18 19]\n",
            " [20 21 22 23 24 25 26 27 28 29]\n",
            " [30 31 32 33 34 35 36 37 38 39]\n",
            " [40 41 42 43 44 45 46 47 48 49]\n",
            " [50 51 52 53 54 55 56 57 58 59]\n",
            " [60 61 62 63 64 65 66 67 68 69]\n",
            " [70 71 72 73 74 75 76 77 78 79]\n",
            " [80 81 82 83 84 85 86 87 88 89]\n",
            " [90 91 92 93 94 95 96 97 98 99]]\n",
            "\n",
            "----------------------------------------\n",
            "\n"
          ]
        }
      ]
    },
    {
      "cell_type": "markdown",
      "source": [
        "**Exercise 5-4**"
      ],
      "metadata": {
        "id": "97F7AQNEoDAp"
      }
    },
    {
      "cell_type": "code",
      "source": [
        "def adicao_de_matrizes_loop(A, B):\n",
        "    \"\"\"\n",
        "    Soma duas matrizes, A e B, elemento a elemento usando laços for.\n",
        "\n",
        "    Args:\n",
        "        A: A primeira matriz (array NumPy).\n",
        "        B: A segunda matriz (array NumPy).\n",
        "\n",
        "    Returns:\n",
        "        Uma nova matriz que é a soma de A e B.\n",
        "\n",
        "    Raises:\n",
        "        ValueError: Se as matrizes A e B não tiverem as mesmas dimensões.\n",
        "    \"\"\"\n",
        "    # 1. Verifica se as dimensões são compatíveis antes de começar\n",
        "    if A.shape != B.shape:\n",
        "        raise ValueError(\"Erro: As matrizes devem ter as mesmas dimensões para serem somadas.\")\n",
        "\n",
        "    # 2. Cria uma matriz de resultado com o mesmo formato de A, preenchida com zeros\n",
        "    C = np.zeros_like(A)\n",
        "\n",
        "    # 3. Itera sobre as linhas (usando o número de linhas da matriz A)\n",
        "    for i in range(A.shape[0]):\n",
        "        # 4. Itera sobre as colunas (usando o número de colunas da matriz A)\n",
        "        for j in range(A.shape[1]):\n",
        "            # 5. Soma os elementos na posição (i, j) e armazena no resultado\n",
        "            C[i, j] = A[i, j] + B[i, j]\n",
        "\n",
        "    return C\n",
        "\n",
        "# --- Demonstração com matrizes de tamanhos iguais ---\n",
        "print(\"--- TESTE 1: Matrizes de tamanhos compatíveis ---\")\n",
        "\n",
        "# Cria duas matrizes 2x3 aleatórias\n",
        "matriz_A = np.random.randint(10, size=(2, 3))\n",
        "matriz_B = np.random.randint(10, size=(2, 3))\n",
        "\n",
        "print(\"Matriz A:\\n\", matriz_A)\n",
        "print(\"\\nMatriz B:\\n\", matriz_B)\n",
        "\n",
        "# Soma usando nossa função com loops\n",
        "resultado_loop = adicao_de_matrizes_loop(matriz_A, matriz_B)\n",
        "print(\"\\nResultado com a função de loops:\\n\", resultado_loop)\n",
        "\n",
        "# Soma usando a forma otimizada do NumPy para verificar\n",
        "resultado_numpy = matriz_A + matriz_B\n",
        "print(\"\\nResultado com o operador '+' do NumPy (para verificação):\\n\", resultado_numpy)\n",
        "\n",
        "print(\"\\nOs resultados são idênticos?\", np.array_equal(resultado_loop, resultado_numpy))\n",
        "\n",
        "print(\"\\n\" + \"=\"*50 + \"\\n\")\n",
        "print(\"--- TESTE 2: Matrizes de tamanhos incompatíveis ---\")\n",
        "\n",
        "# Cria duas matrizes com dimensões diferentes\n",
        "matriz_M = np.random.randint(10, size=(2, 3)) # 2 linhas, 3 colunas\n",
        "matriz_N = np.random.randint(10, size=(3, 2)) # 3 linhas, 2 colunas\n",
        "\n",
        "print(\"Matriz M (2x3):\\n\", matriz_M)\n",
        "print(\"\\nMatriz N (3x2):\\n\", matriz_N)\n",
        "\n",
        "# Tenta somar as matrizes incompatíveis\n",
        "try:\n",
        "    resultado_erro = adicao_de_matrizes_loop(matriz_M, matriz_N)\n",
        "except ValueError as e:\n",
        "    print(f\"\\nUma exceção foi capturada, como esperado:\")\n",
        "    print(e)"
      ],
      "metadata": {
        "colab": {
          "base_uri": "https://localhost:8080/"
        },
        "id": "lXov6JRxoFB8",
        "outputId": "adf64a72-ca76-4dc6-8fe2-17a446a96a1d"
      },
      "execution_count": 4,
      "outputs": [
        {
          "output_type": "stream",
          "name": "stdout",
          "text": [
            "--- TESTE 1: Matrizes de tamanhos compatíveis ---\n",
            "Matriz A:\n",
            " [[5 6 1]\n",
            " [9 0 2]]\n",
            "\n",
            "Matriz B:\n",
            " [[2 8 5]\n",
            " [5 8 8]]\n",
            "\n",
            "Resultado com a função de loops:\n",
            " [[ 7 14  6]\n",
            " [14  8 10]]\n",
            "\n",
            "Resultado com o operador '+' do NumPy (para verificação):\n",
            " [[ 7 14  6]\n",
            " [14  8 10]]\n",
            "\n",
            "Os resultados são idênticos? True\n",
            "\n",
            "==================================================\n",
            "\n",
            "--- TESTE 2: Matrizes de tamanhos incompatíveis ---\n",
            "Matriz M (2x3):\n",
            " [[1 0 2]\n",
            " [7 2 2]]\n",
            "\n",
            "Matriz N (3x2):\n",
            " [[4 5]\n",
            " [1 4]\n",
            " [7 8]]\n",
            "\n",
            "Uma exceção foi capturada, como esperado:\n",
            "Erro: As matrizes devem ter as mesmas dimensões para serem somadas.\n"
          ]
        }
      ]
    },
    {
      "cell_type": "markdown",
      "source": [
        "**Exercise 5-5**"
      ],
      "metadata": {
        "id": "UdvV-LbBHcWq"
      }
    },
    {
      "cell_type": "code",
      "source": [
        "A = np.random.randint(10, size=(3, 4))\n",
        "B = np.random.randint(10, size=(3, 4))\n",
        "\n",
        "# Define um escalar\n",
        "sigma = 3\n",
        "\n",
        "print(\"Dados iniciais\")\n",
        "print(f\"Escalar σ = {sigma}\\n\")\n",
        "print(\"Matriz A:\")\n",
        "print(A)\n",
        "print(\"\\nMatriz B:\")\n",
        "print(B)\n",
        "print(\"\\n\" + \"=\"*30 + \"\\n\")\n",
        "\n",
        "print(\"Calculando o lado esquerdo: σ * (A + B)\")\n",
        "soma_matrizes = A + B\n",
        "lado_esquerdo = sigma * soma_matrizes\n",
        "\n",
        "print(\"Resultado do lado esquerdo:\")\n",
        "print(lado_esquerdo)\n",
        "print(\"\\n\" + \"=\"*30 + \"\\n\")\n",
        "\n",
        "print(\"Calculando o lado direito: (σ * A) + (σ * B)\")\n",
        "sigma_A = sigma * A\n",
        "sigma_B = sigma * B\n",
        "lado_direito = sigma_A + sigma_B\n",
        "\n",
        "print(\"Resultado do lado direito:\")\n",
        "print(lado_direito)\n",
        "print(\"\\n\" + \"=\"*30 + \"\\n\")\n",
        "\n",
        "sao_iguais = np.array_equal(lado_esquerdo, lado_direito)\n",
        "\n",
        "print(\"Verificação Final\")\n",
        "print(f\"O resultado de σ(A + B) é igual ao resultado de σA + σB? \\nResposta: {sao_iguais}\")"
      ],
      "metadata": {
        "colab": {
          "base_uri": "https://localhost:8080/"
        },
        "id": "Wr_gtKF-sSEh",
        "outputId": "13d72500-cf45-4102-a879-8a219286b9a4"
      },
      "execution_count": 5,
      "outputs": [
        {
          "output_type": "stream",
          "name": "stdout",
          "text": [
            "Dados iniciais\n",
            "Escalar σ = 3\n",
            "\n",
            "Matriz A:\n",
            "[[1 8 3 1]\n",
            " [8 9 0 7]\n",
            " [3 7 9 3]]\n",
            "\n",
            "Matriz B:\n",
            "[[9 1 1 5]\n",
            " [5 7 1 5]\n",
            " [9 7 1 1]]\n",
            "\n",
            "==============================\n",
            "\n",
            "Calculando o lado esquerdo: σ * (A + B)\n",
            "Resultado do lado esquerdo:\n",
            "[[30 27 12 18]\n",
            " [39 48  3 36]\n",
            " [36 42 30 12]]\n",
            "\n",
            "==============================\n",
            "\n",
            "Calculando o lado direito: (σ * A) + (σ * B)\n",
            "Resultado do lado direito:\n",
            "[[30 27 12 18]\n",
            " [39 48  3 36]\n",
            " [36 42 30 12]]\n",
            "\n",
            "==============================\n",
            "\n",
            "Verificação Final\n",
            "O resultado de σ(A + B) é igual ao resultado de σA + σB? \n",
            "Resposta: True\n"
          ]
        }
      ]
    },
    {
      "cell_type": "markdown",
      "source": [
        "**Exercise 5-6**"
      ],
      "metadata": {
        "id": "J33dcp-cI04j"
      }
    },
    {
      "cell_type": "code",
      "source": [
        "import numpy as np\n",
        "\n",
        "def multiplicacao_de_matrizes_loop(A, B):\n",
        "    \"\"\"\n",
        "    Multiplica duas matrizes, A e B, usando três laços for aninhados.\n",
        "\n",
        "    Args:\n",
        "        A: A primeira matriz (array NumPy).\n",
        "        B: A segunda matriz (array NumPy).\n",
        "\n",
        "    Returns:\n",
        "        Uma nova matriz que é o produto de A e B.\n",
        "\n",
        "    Raises:\n",
        "        ValueError: Se as matrizes não forem compatíveis para multiplicação.\n",
        "    \"\"\"\n",
        "    # Verifica se a multiplicação é possível\n",
        "    # O número de colunas de A deve ser igual ao número de linhas de B.\n",
        "    if A.shape[1] != B.shape[0]:\n",
        "        raise ValueError(\"Dimensões incompatíveis! O número de colunas de A deve ser igual ao de linhas de B.\")\n",
        "\n",
        "    # Prepara a matriz de resultado C com as dimensões corretas e preenchida com zeros\n",
        "    # Dimensões de C: (linhas de A, colunas de B)\n",
        "    C = np.zeros((A.shape[0], B.shape[1]))\n",
        "\n",
        "    # Itera sobre cada célula da matriz resultante C\n",
        "    # Laço para as linhas de C (e A)\n",
        "    for i in range(A.shape[0]):\n",
        "        # Laço para as colunas de C (e B)\n",
        "        for j in range(B.shape[1]):\n",
        "            # Laço para o produto escalar (colunas de A / linhas de B)\n",
        "            soma = 0\n",
        "            for k in range(A.shape[1]):\n",
        "                soma += A[i, k] * B[k, j]\n",
        "\n",
        "            # Atribui o resultado da soma à célula C[i, j]\n",
        "            C[i, j] = soma\n",
        "\n",
        "    return C\n",
        "\n",
        "# Demonstração e Confirmação\n",
        "print(\"--- Demonstração da Multiplicação de Matrizes ---\")\n",
        "\n",
        "# Cria duas matrizes compatíveis: A (3x4) e B (4x2)\n",
        "matriz_A = np.random.randint(1, 10, size=(3, 4))\n",
        "matriz_B = np.random.randint(1, 10, size=(4, 2))\n",
        "\n",
        "print(\"Matriz A (3x4):\")\n",
        "print(matriz_A)\n",
        "print(\"\\nMatriz B (4x2):\")\n",
        "print(matriz_B)\n",
        "\n",
        "# Confirmação dos resultados\n",
        "print(\"\\n\" + \"=\"*50 + \"\\n\")\n",
        "\n",
        "# Resultado usando nossa função com loops\n",
        "resultado_loop = multiplicacao_de_matrizes_loop(matriz_A, matriz_B)\n",
        "print(\"Resultado com a função de loops (3x2):\")\n",
        "print(resultado_loop)\n",
        "\n",
        "# Resultado usando o operador '@' do NumPy\n",
        "resultado_numpy = matriz_A @ matriz_B\n",
        "print(\"\\nResultado com o operador '@' do NumPy (3x2):\")\n",
        "print(resultado_numpy)\n",
        "\n",
        "# Verifica se os dois resultados são numericamente iguais\n",
        "sao_iguais = np.allclose(resultado_loop, resultado_numpy)\n",
        "print(f\"\\nOs resultados são idênticos? {sao_iguais}\")"
      ],
      "metadata": {
        "colab": {
          "base_uri": "https://localhost:8080/"
        },
        "id": "A_kQ9aXMI5NF",
        "outputId": "cbc7f868-f4d7-4bda-c85c-f79f6bec2287"
      },
      "execution_count": 6,
      "outputs": [
        {
          "output_type": "stream",
          "name": "stdout",
          "text": [
            "--- Demonstração da Multiplicação de Matrizes ---\n",
            "Matriz A (3x4):\n",
            "[[3 6 6 9]\n",
            " [2 8 9 3]\n",
            " [4 6 1 9]]\n",
            "\n",
            "Matriz B (4x2):\n",
            "[[4 5]\n",
            " [4 1]\n",
            " [8 7]\n",
            " [1 9]]\n",
            "\n",
            "==================================================\n",
            "\n",
            "Resultado com a função de loops (3x2):\n",
            "[[ 93. 144.]\n",
            " [115. 108.]\n",
            " [ 57. 114.]]\n",
            "\n",
            "Resultado com o operador '@' do NumPy (3x2):\n",
            "[[ 93 144]\n",
            " [115 108]\n",
            " [ 57 114]]\n",
            "\n",
            "Os resultados são idênticos? True\n"
          ]
        }
      ]
    },
    {
      "cell_type": "markdown",
      "source": [
        "**Exercise 5-7**"
      ],
      "metadata": {
        "id": "HVKoJ2t8ygge"
      }
    },
    {
      "cell_type": "code",
      "source": [
        "print(\"Matrizes não quadradas\")\n",
        "\n",
        "# Cria quatro matrizes com números aleatórios e tamanhos específicos\n",
        "L = np.random.randn(2, 6)  # 2x6\n",
        "I = np.random.randn(6, 3)  # 6x3\n",
        "V = np.random.randn(3, 5)  # 3x5\n",
        "E = np.random.randn(5, 2)  # 5x2\n",
        "\n",
        "print(\"Dimensões: L(2x6), I(6x3), V(3x5), E(5x2)\")\n",
        "\n",
        "# Multiplica as quatro matrizes e transpõe o produto\n",
        "print(\"\\nPasso 2: Calculando (L @ I @ V @ E).T\")\n",
        "produto = L @ I @ V @ E\n",
        "resultado_passo2 = produto.T\n",
        "print(\"Resultado do Passo 2 (dimensões {}):\\n\".format(resultado_passo2.shape), resultado_passo2)\n",
        "\n",
        "# Transpõe cada matriz individualmente e multiplica na mesma ordem\n",
        "print(\"\\nPasso 3: Calculando L.T @ I.T @ V.T @ E.T (ordem original)\")\n",
        "try:\n",
        "    resultado_passo3 = L.T @ I.T @ V.T @ E.T\n",
        "except ValueError as e:\n",
        "    print(\"ERRO! Como esperado, a multiplicação falhou.\")\n",
        "    print(\"Motivo:\", e)\n",
        "    print(\"Isso ocorre porque as dimensões se tornam incompatíveis (L.T é 6x2, I.T é 3x6).\")\n",
        "\n",
        "# Transpõe cada matriz e multiplica na ordem INVERSA (regra LIVE EVIL)\n",
        "print(\"\\nPasso 4: Calculando E.T @ V.T @ I.T @ L.T (ordem inversa)\")\n",
        "resultado_passo4 = E.T @ V.T @ I.T @ L.T\n",
        "print(\"Resultado do Passo 4 (dimensões {}):\\n\".format(resultado_passo4.shape), resultado_passo4)\n",
        "\n",
        "# Verificação final\n",
        "print(\"O resultado do Passo 2 corresponde ao do Passo 4?\", np.allclose(resultado_passo2, resultado_passo4))"
      ],
      "metadata": {
        "colab": {
          "base_uri": "https://localhost:8080/"
        },
        "id": "esz7o-WWzEbt",
        "outputId": "a93cfd05-771c-46b0-8ee0-fe196b1d420a"
      },
      "execution_count": 7,
      "outputs": [
        {
          "output_type": "stream",
          "name": "stdout",
          "text": [
            "Matrizes não quadradas\n",
            "Dimensões: L(2x6), I(6x3), V(3x5), E(5x2)\n",
            "\n",
            "Passo 2: Calculando (L @ I @ V @ E).T\n",
            "Resultado do Passo 2 (dimensões (2, 2)):\n",
            " [[ 6.01323986  3.65137007]\n",
            " [14.75993948  2.69239089]]\n",
            "\n",
            "Passo 3: Calculando L.T @ I.T @ V.T @ E.T (ordem original)\n",
            "ERRO! Como esperado, a multiplicação falhou.\n",
            "Motivo: matmul: Input operand 1 has a mismatch in its core dimension 0, with gufunc signature (n?,k),(k,m?)->(n?,m?) (size 3 is different from 2)\n",
            "Isso ocorre porque as dimensões se tornam incompatíveis (L.T é 6x2, I.T é 3x6).\n",
            "\n",
            "Passo 4: Calculando E.T @ V.T @ I.T @ L.T (ordem inversa)\n",
            "Resultado do Passo 4 (dimensões (2, 2)):\n",
            " [[ 6.01323986  3.65137007]\n",
            " [14.75993948  2.69239089]]\n",
            "O resultado do Passo 2 corresponde ao do Passo 4? True\n"
          ]
        }
      ]
    },
    {
      "cell_type": "code",
      "source": [
        "print(\"Matrizes Quadradas ---\")\n",
        "\n",
        "# Cria quatro matrizes quadradas (4x4)\n",
        "L_sq = np.random.randn(4, 4)\n",
        "I_sq = np.random.randn(4, 4)\n",
        "V_sq = np.random.randn(4, 4)\n",
        "E_sq = np.random.randn(4, 4)\n",
        "print(\"Dimensões: L, I, V, E todas 4x4\")\n",
        "\n",
        "# Multiplica e depois transpõe\n",
        "produto_sq = L_sq @ I_sq @ V_sq @ E_sq\n",
        "resultado_sq_passo2 = produto_sq.T\n",
        "print(\"\\nPasso 2: Resultado de (LIVE).T:\\n\", resultado_sq_passo2)\n",
        "\n",
        "# Transpõe e multiplica na mesma ordem\n",
        "resultado_sq_passo3 = L_sq.T @ I_sq.T @ V_sq.T @ E_sq.T\n",
        "print(\"\\nPasso 3: Resultado de L.T @ I.T @ V.T @ E.T (ordem original):\\n\", resultado_sq_passo3)\n",
        "\n",
        "\n",
        "# Transpõe e multiplica na ordem inversa\n",
        "resultado_sq_passo4 = E_sq.T @ V_sq.T @ I_sq.T @ L_sq.T\n",
        "print(\"\\nPasso 4: Resultado de E.T @ V.T @ I.T @ L.T (ordem inversa):\\n\", resultado_sq_passo4)\n",
        "\n",
        "\n",
        "# Verificação final\n",
        "print(\"O resultado do Passo 2 corresponde ao do Passo 3?\", np.allclose(resultado_sq_passo2, resultado_sq_passo3))\n",
        "print(\"O resultado do Passo 2 corresponde ao do Passo 4?\", np.allclose(resultado_sq_passo2, resultado_sq_passo4))"
      ],
      "metadata": {
        "colab": {
          "base_uri": "https://localhost:8080/"
        },
        "id": "0CYAdKgazK9O",
        "outputId": "d9c38559-9db9-4676-af1b-e0226756d8c7"
      },
      "execution_count": 8,
      "outputs": [
        {
          "output_type": "stream",
          "name": "stdout",
          "text": [
            "Matrizes Quadradas ---\n",
            "Dimensões: L, I, V, E todas 4x4\n",
            "\n",
            "Passo 2: Resultado de (LIVE).T:\n",
            " [[-13.8338254   -1.10105413  -0.86381599  -4.62493766]\n",
            " [ -0.5598402    2.05390933  -2.66282457   0.7888548 ]\n",
            " [ -9.07959146   1.35593433   8.88752718  -5.75605513]\n",
            " [-17.40369104   3.27034524   2.34251831  -6.4889075 ]]\n",
            "\n",
            "Passo 3: Resultado de L.T @ I.T @ V.T @ E.T (ordem original):\n",
            " [[  0.3701855   11.27792958 -11.37868955  -5.06189853]\n",
            " [  1.63460336  -1.16107904   3.29034023  -0.21827894]\n",
            " [  0.98311505  12.36516574   2.35261054 -11.33627934]\n",
            " [  2.59500821 -11.32719853  18.74343812   2.37140303]]\n",
            "\n",
            "Passo 4: Resultado de E.T @ V.T @ I.T @ L.T (ordem inversa):\n",
            " [[-13.8338254   -1.10105413  -0.86381599  -4.62493766]\n",
            " [ -0.5598402    2.05390933  -2.66282457   0.7888548 ]\n",
            " [ -9.07959146   1.35593433   8.88752718  -5.75605513]\n",
            " [-17.40369104   3.27034524   2.34251831  -6.4889075 ]]\n",
            "O resultado do Passo 2 corresponde ao do Passo 3? False\n",
            "O resultado do Passo 2 corresponde ao do Passo 4? True\n"
          ]
        }
      ]
    }
  ]
}