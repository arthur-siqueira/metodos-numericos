{
  "nbformat": 4,
  "nbformat_minor": 0,
  "metadata": {
    "colab": {
      "provenance": [],
      "authorship_tag": "ABX9TyMX0N6pUZKYtHjMS74EkBHQ",
      "include_colab_link": true
    },
    "kernelspec": {
      "name": "python3",
      "display_name": "Python 3"
    },
    "language_info": {
      "name": "python"
    }
  },
  "cells": [
    {
      "cell_type": "markdown",
      "metadata": {
        "id": "view-in-github",
        "colab_type": "text"
      },
      "source": [
        "<a href=\"https://colab.research.google.com/github/arthur-siqueira/metodos-numericos/blob/main/matrix_exercise.ipynb\" target=\"_parent\"><img src=\"https://colab.research.google.com/assets/colab-badge.svg\" alt=\"Open In Colab\"/></a>"
      ]
    },
    {
      "cell_type": "markdown",
      "source": [
        "**Exercise 5-1**"
      ],
      "metadata": {
        "id": "ngxo-5bWC3Hl"
      }
    },
    {
      "cell_type": "code",
      "execution_count": 1,
      "metadata": {
        "colab": {
          "base_uri": "https://localhost:8080/"
        },
        "id": "HeqaocBPsd6Y",
        "outputId": "d952e1de-7f7f-4a26-e47b-56326bc783b4"
      },
      "outputs": [
        {
          "output_type": "stream",
          "name": "stdout",
          "text": [
            "Matriz criada:\n",
            "[[ 0  1  2  3]\n",
            " [ 4  5  6  7]\n",
            " [ 8  9 10 11]]\n",
            "--------------------\n",
            "The matrix element at index (1,3) is 7.\n"
          ]
        }
      ],
      "source": [
        "import numpy as np\n",
        "\n",
        "matriz = np.arange(12).reshape(3, 4)\n",
        "\n",
        "print(\"Matriz criada:\")\n",
        "print(matriz)\n",
        "print(\"-\" * 20)\n",
        "\n",
        "linha_idx = 1\n",
        "coluna_idx = 3\n",
        "\n",
        "# Extrai o elemento usando os índices definidos\n",
        "elemento = matriz[linha_idx, coluna_idx]\n",
        "\n",
        "print(f\"The matrix element at index ({linha_idx},{coluna_idx}) is {elemento}.\")"
      ]
    },
    {
      "cell_type": "markdown",
      "source": [
        "**Exercise 5-2**"
      ],
      "metadata": {
        "id": "7PcdffS4Uq1T"
      }
    },
    {
      "cell_type": "code",
      "source": [
        "# Cria a matriz C original (10x10 com números de 0 a 99)\n",
        "matrix_C = np.arange(100).reshape(10, 10)\n",
        "\n",
        "print(\"Matriz Original C (10x10):\")\n",
        "print(matrix_C)\n",
        "print(\"\\n\" + \"-\"*30 + \"\\n\")\n",
        "\n",
        "# 2. Usa fatiamento (slicing) para extrair a submatriz C1\n",
        "# O slice [:5, :5] pega as linhas do índice 0 até 4 e as colunas do índice 0 até 4.\n",
        "submatrix_C1 = matrix_C[:5, :5]\n",
        "\n",
        "print(\"Submatriz Extraída C1 (5x5):\")\n",
        "print(submatrix_C1)"
      ],
      "metadata": {
        "colab": {
          "base_uri": "https://localhost:8080/"
        },
        "id": "pWRNibaVUqfk",
        "outputId": "161c027c-920c-4c9b-af6e-7b52b9b5f0cf"
      },
      "execution_count": 2,
      "outputs": [
        {
          "output_type": "stream",
          "name": "stdout",
          "text": [
            "Matriz Original C (10x10):\n",
            "[[ 0  1  2  3  4  5  6  7  8  9]\n",
            " [10 11 12 13 14 15 16 17 18 19]\n",
            " [20 21 22 23 24 25 26 27 28 29]\n",
            " [30 31 32 33 34 35 36 37 38 39]\n",
            " [40 41 42 43 44 45 46 47 48 49]\n",
            " [50 51 52 53 54 55 56 57 58 59]\n",
            " [60 61 62 63 64 65 66 67 68 69]\n",
            " [70 71 72 73 74 75 76 77 78 79]\n",
            " [80 81 82 83 84 85 86 87 88 89]\n",
            " [90 91 92 93 94 95 96 97 98 99]]\n",
            "\n",
            "------------------------------\n",
            "\n",
            "Submatriz Extraída C1 (5x5):\n",
            "[[ 0  1  2  3  4]\n",
            " [10 11 12 13 14]\n",
            " [20 21 22 23 24]\n",
            " [30 31 32 33 34]\n",
            " [40 41 42 43 44]]\n"
          ]
        }
      ]
    },
    {
      "cell_type": "markdown",
      "source": [
        "**Exercise 5-3**"
      ],
      "metadata": {
        "id": "0VIJrG6Jr3NY"
      }
    },
    {
      "cell_type": "code",
      "source": [
        "# Cria a matriz original C (10x10 com números de 0 a 99)\n",
        "matriz_C = np.arange(100).reshape(10, 10)\n",
        "\n",
        "print(\"Matriz Original C:\")\n",
        "print(matriz_C)\n",
        "print(\"\\n\" + \"-\"*40 + \"\\n\")\n",
        "\n",
        "# Extrai os quatro blocos 5x5 usando fatiamento (slicing)\n",
        "bloco_superior_esquerdo = matriz_C[:5, :5]\n",
        "bloco_superior_direito = matriz_C[:5, 5:]\n",
        "bloco_inferior_esquerdo = matriz_C[5:, :5]\n",
        "bloco_inferior_direito = matriz_C[5:, 5:]\n",
        "\n",
        "matriz_reorganizada = np.block([\n",
        "    [bloco_inferior_direito, bloco_inferior_esquerdo],\n",
        "    [bloco_superior_direito, bloco_superior_esquerdo]\n",
        "])"
      ],
      "metadata": {
        "colab": {
          "base_uri": "https://localhost:8080/"
        },
        "id": "XzSOnG_qr7K1",
        "outputId": "b32d582d-5585-49a6-c132-5d2be38140dd"
      },
      "execution_count": 3,
      "outputs": [
        {
          "output_type": "stream",
          "name": "stdout",
          "text": [
            "Matriz Original C:\n",
            "[[ 0  1  2  3  4  5  6  7  8  9]\n",
            " [10 11 12 13 14 15 16 17 18 19]\n",
            " [20 21 22 23 24 25 26 27 28 29]\n",
            " [30 31 32 33 34 35 36 37 38 39]\n",
            " [40 41 42 43 44 45 46 47 48 49]\n",
            " [50 51 52 53 54 55 56 57 58 59]\n",
            " [60 61 62 63 64 65 66 67 68 69]\n",
            " [70 71 72 73 74 75 76 77 78 79]\n",
            " [80 81 82 83 84 85 86 87 88 89]\n",
            " [90 91 92 93 94 95 96 97 98 99]]\n",
            "\n",
            "----------------------------------------\n",
            "\n"
          ]
        }
      ]
    },
    {
      "cell_type": "markdown",
      "source": [
        "**Exercise 5-4**"
      ],
      "metadata": {
        "id": "97F7AQNEoDAp"
      }
    },
    {
      "cell_type": "code",
      "source": [
        "def adicao_de_matrizes_loop(A, B):\n",
        "    \"\"\"\n",
        "    Soma duas matrizes, A e B, elemento a elemento usando laços for.\n",
        "\n",
        "    Args:\n",
        "        A: A primeira matriz (array NumPy).\n",
        "        B: A segunda matriz (array NumPy).\n",
        "\n",
        "    Returns:\n",
        "        Uma nova matriz que é a soma de A e B.\n",
        "\n",
        "    Raises:\n",
        "        ValueError: Se as matrizes A e B não tiverem as mesmas dimensões.\n",
        "    \"\"\"\n",
        "    # 1. Verifica se as dimensões são compatíveis antes de começar\n",
        "    if A.shape != B.shape:\n",
        "        raise ValueError(\"Erro: As matrizes devem ter as mesmas dimensões para serem somadas.\")\n",
        "\n",
        "    # 2. Cria uma matriz de resultado com o mesmo formato de A, preenchida com zeros\n",
        "    C = np.zeros_like(A)\n",
        "\n",
        "    # 3. Itera sobre as linhas (usando o número de linhas da matriz A)\n",
        "    for i in range(A.shape[0]):\n",
        "        # 4. Itera sobre as colunas (usando o número de colunas da matriz A)\n",
        "        for j in range(A.shape[1]):\n",
        "            # 5. Soma os elementos na posição (i, j) e armazena no resultado\n",
        "            C[i, j] = A[i, j] + B[i, j]\n",
        "\n",
        "    return C\n",
        "\n",
        "# --- Demonstração com matrizes de tamanhos iguais ---\n",
        "print(\"--- TESTE 1: Matrizes de tamanhos compatíveis ---\")\n",
        "\n",
        "# Cria duas matrizes 2x3 aleatórias\n",
        "matriz_A = np.random.randint(10, size=(2, 3))\n",
        "matriz_B = np.random.randint(10, size=(2, 3))\n",
        "\n",
        "print(\"Matriz A:\\n\", matriz_A)\n",
        "print(\"\\nMatriz B:\\n\", matriz_B)\n",
        "\n",
        "# Soma usando nossa função com loops\n",
        "resultado_loop = adicao_de_matrizes_loop(matriz_A, matriz_B)\n",
        "print(\"\\nResultado com a função de loops:\\n\", resultado_loop)\n",
        "\n",
        "# Soma usando a forma otimizada do NumPy para verificar\n",
        "resultado_numpy = matriz_A + matriz_B\n",
        "print(\"\\nResultado com o operador '+' do NumPy (para verificação):\\n\", resultado_numpy)\n",
        "\n",
        "print(\"\\nOs resultados são idênticos?\", np.array_equal(resultado_loop, resultado_numpy))\n",
        "\n",
        "print(\"\\n\" + \"=\"*50 + \"\\n\")\n",
        "print(\"--- TESTE 2: Matrizes de tamanhos incompatíveis ---\")\n",
        "\n",
        "# Cria duas matrizes com dimensões diferentes\n",
        "matriz_M = np.random.randint(10, size=(2, 3)) # 2 linhas, 3 colunas\n",
        "matriz_N = np.random.randint(10, size=(3, 2)) # 3 linhas, 2 colunas\n",
        "\n",
        "print(\"Matriz M (2x3):\\n\", matriz_M)\n",
        "print(\"\\nMatriz N (3x2):\\n\", matriz_N)\n",
        "\n",
        "# Tenta somar as matrizes incompatíveis\n",
        "try:\n",
        "    resultado_erro = adicao_de_matrizes_loop(matriz_M, matriz_N)\n",
        "except ValueError as e:\n",
        "    print(f\"\\nUma exceção foi capturada, como esperado:\")\n",
        "    print(e)"
      ],
      "metadata": {
        "colab": {
          "base_uri": "https://localhost:8080/"
        },
        "id": "lXov6JRxoFB8",
        "outputId": "a3405c12-d872-41be-b275-1c1e6c357775"
      },
      "execution_count": 4,
      "outputs": [
        {
          "output_type": "stream",
          "name": "stdout",
          "text": [
            "--- TESTE 1: Matrizes de tamanhos compatíveis ---\n",
            "Matriz A:\n",
            " [[5 0 4]\n",
            " [5 7 1]]\n",
            "\n",
            "Matriz B:\n",
            " [[5 1 8]\n",
            " [1 7 3]]\n",
            "\n",
            "Resultado com a função de loops:\n",
            " [[10  1 12]\n",
            " [ 6 14  4]]\n",
            "\n",
            "Resultado com o operador '+' do NumPy (para verificação):\n",
            " [[10  1 12]\n",
            " [ 6 14  4]]\n",
            "\n",
            "Os resultados são idênticos? True\n",
            "\n",
            "==================================================\n",
            "\n",
            "--- TESTE 2: Matrizes de tamanhos incompatíveis ---\n",
            "Matriz M (2x3):\n",
            " [[0 7 4]\n",
            " [7 9 0]]\n",
            "\n",
            "Matriz N (3x2):\n",
            " [[4 8]\n",
            " [0 9]\n",
            " [0 6]]\n",
            "\n",
            "Uma exceção foi capturada, como esperado:\n",
            "Erro: As matrizes devem ter as mesmas dimensões para serem somadas.\n"
          ]
        }
      ]
    },
    {
      "cell_type": "markdown",
      "source": [
        "**Exercise 5-5**"
      ],
      "metadata": {
        "id": "UdvV-LbBHcWq"
      }
    },
    {
      "cell_type": "code",
      "source": [
        "A = np.random.randint(10, size=(3, 4))\n",
        "B = np.random.randint(10, size=(3, 4))\n",
        "\n",
        "# Define um escalar\n",
        "sigma = 3\n",
        "\n",
        "print(\"Dados iniciais\")\n",
        "print(f\"Escalar σ = {sigma}\\n\")\n",
        "print(\"Matriz A:\")\n",
        "print(A)\n",
        "print(\"\\nMatriz B:\")\n",
        "print(B)\n",
        "print(\"\\n\" + \"=\"*30 + \"\\n\")\n",
        "\n",
        "print(\"Calculando o lado esquerdo: σ * (A + B)\")\n",
        "soma_matrizes = A + B\n",
        "lado_esquerdo = sigma * soma_matrizes\n",
        "\n",
        "print(\"Resultado do lado esquerdo:\")\n",
        "print(lado_esquerdo)\n",
        "print(\"\\n\" + \"=\"*30 + \"\\n\")\n",
        "\n",
        "print(\"Calculando o lado direito: (σ * A) + (σ * B)\")\n",
        "sigma_A = sigma * A\n",
        "sigma_B = sigma * B\n",
        "lado_direito = sigma_A + sigma_B\n",
        "\n",
        "print(\"Resultado do lado direito:\")\n",
        "print(lado_direito)\n",
        "print(\"\\n\" + \"=\"*30 + \"\\n\")\n",
        "\n",
        "sao_iguais = np.array_equal(lado_esquerdo, lado_direito)\n",
        "\n",
        "print(\"Verificação Final\")\n",
        "print(f\"O resultado de σ(A + B) é igual ao resultado de σA + σB? \\nResposta: {sao_iguais}\")"
      ],
      "metadata": {
        "colab": {
          "base_uri": "https://localhost:8080/"
        },
        "id": "Wr_gtKF-sSEh",
        "outputId": "638aadee-532d-4305-ba5c-dc9a3e037356"
      },
      "execution_count": 5,
      "outputs": [
        {
          "output_type": "stream",
          "name": "stdout",
          "text": [
            "Dados iniciais\n",
            "Escalar σ = 3\n",
            "\n",
            "Matriz A:\n",
            "[[6 4 3 0]\n",
            " [8 2 7 9]\n",
            " [0 9 1 7]]\n",
            "\n",
            "Matriz B:\n",
            "[[2 4 2 1]\n",
            " [0 9 6 1]\n",
            " [3 5 9 0]]\n",
            "\n",
            "==============================\n",
            "\n",
            "Calculando o lado esquerdo: σ * (A + B)\n",
            "Resultado do lado esquerdo:\n",
            "[[24 24 15  3]\n",
            " [24 33 39 30]\n",
            " [ 9 42 30 21]]\n",
            "\n",
            "==============================\n",
            "\n",
            "Calculando o lado direito: (σ * A) + (σ * B)\n",
            "Resultado do lado direito:\n",
            "[[24 24 15  3]\n",
            " [24 33 39 30]\n",
            " [ 9 42 30 21]]\n",
            "\n",
            "==============================\n",
            "\n",
            "Verificação Final\n",
            "O resultado de σ(A + B) é igual ao resultado de σA + σB? \n",
            "Resposta: True\n"
          ]
        }
      ]
    }
  ]
}