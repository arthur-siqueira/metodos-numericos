{
  "nbformat": 4,
  "nbformat_minor": 0,
  "metadata": {
    "colab": {
      "provenance": [],
      "authorship_tag": "ABX9TyOgFtviBKMARLb4nuYLsSRX",
      "include_colab_link": true
    },
    "kernelspec": {
      "name": "python3",
      "display_name": "Python 3"
    },
    "language_info": {
      "name": "python"
    }
  },
  "cells": [
    {
      "cell_type": "markdown",
      "metadata": {
        "id": "view-in-github",
        "colab_type": "text"
      },
      "source": [
        "<a href=\"https://colab.research.google.com/github/arthur-siqueira/metodos-numericos/blob/main/matrix_exercise.ipynb\" target=\"_parent\"><img src=\"https://colab.research.google.com/assets/colab-badge.svg\" alt=\"Open In Colab\"/></a>"
      ]
    },
    {
      "cell_type": "markdown",
      "source": [
        "**Exercise 5-1**"
      ],
      "metadata": {
        "id": "ngxo-5bWC3Hl"
      }
    },
    {
      "cell_type": "code",
      "execution_count": 1,
      "metadata": {
        "colab": {
          "base_uri": "https://localhost:8080/"
        },
        "id": "HeqaocBPsd6Y",
        "outputId": "4b3ca452-92cf-4aa3-a299-bc84b5e71d95"
      },
      "outputs": [
        {
          "output_type": "stream",
          "name": "stdout",
          "text": [
            "Matriz criada:\n",
            "[[ 0  1  2  3]\n",
            " [ 4  5  6  7]\n",
            " [ 8  9 10 11]]\n",
            "--------------------\n",
            "The matrix element at index (1,3) is 7.\n"
          ]
        }
      ],
      "source": [
        "import numpy as np\n",
        "\n",
        "matriz = np.arange(12).reshape(3, 4)\n",
        "\n",
        "print(\"Matriz criada:\")\n",
        "print(matriz)\n",
        "print(\"-\" * 20)\n",
        "\n",
        "linha_idx = 1\n",
        "coluna_idx = 3\n",
        "\n",
        "# Extrai o elemento usando os índices definidos\n",
        "elemento = matriz[linha_idx, coluna_idx]\n",
        "\n",
        "print(f\"The matrix element at index ({linha_idx},{coluna_idx}) is {elemento}.\")"
      ]
    },
    {
      "cell_type": "markdown",
      "source": [
        "**Exercise 5-2**"
      ],
      "metadata": {
        "id": "7PcdffS4Uq1T"
      }
    },
    {
      "cell_type": "code",
      "source": [
        "# Cria a matriz C original (10x10 com números de 0 a 99)\n",
        "matrix_C = np.arange(100).reshape(10, 10)\n",
        "\n",
        "print(\"Matriz Original C (10x10):\")\n",
        "print(matrix_C)\n",
        "print(\"\\n\" + \"-\"*30 + \"\\n\")\n",
        "\n",
        "# 2. Usa fatiamento (slicing) para extrair a submatriz C1\n",
        "# O slice [:5, :5] pega as linhas do índice 0 até 4 e as colunas do índice 0 até 4.\n",
        "submatrix_C1 = matrix_C[:5, :5]\n",
        "\n",
        "print(\"Submatriz Extraída C1 (5x5):\")\n",
        "print(submatrix_C1)"
      ],
      "metadata": {
        "colab": {
          "base_uri": "https://localhost:8080/"
        },
        "id": "pWRNibaVUqfk",
        "outputId": "c2aed1f4-450e-4ea8-b83c-e84a608295c8"
      },
      "execution_count": 2,
      "outputs": [
        {
          "output_type": "stream",
          "name": "stdout",
          "text": [
            "Matriz Original C (10x10):\n",
            "[[ 0  1  2  3  4  5  6  7  8  9]\n",
            " [10 11 12 13 14 15 16 17 18 19]\n",
            " [20 21 22 23 24 25 26 27 28 29]\n",
            " [30 31 32 33 34 35 36 37 38 39]\n",
            " [40 41 42 43 44 45 46 47 48 49]\n",
            " [50 51 52 53 54 55 56 57 58 59]\n",
            " [60 61 62 63 64 65 66 67 68 69]\n",
            " [70 71 72 73 74 75 76 77 78 79]\n",
            " [80 81 82 83 84 85 86 87 88 89]\n",
            " [90 91 92 93 94 95 96 97 98 99]]\n",
            "\n",
            "------------------------------\n",
            "\n",
            "Submatriz Extraída C1 (5x5):\n",
            "[[ 0  1  2  3  4]\n",
            " [10 11 12 13 14]\n",
            " [20 21 22 23 24]\n",
            " [30 31 32 33 34]\n",
            " [40 41 42 43 44]]\n"
          ]
        }
      ]
    },
    {
      "cell_type": "markdown",
      "source": [
        "**Exercise 5-3**"
      ],
      "metadata": {
        "id": "0VIJrG6Jr3NY"
      }
    },
    {
      "cell_type": "code",
      "source": [
        "# Cria a matriz original C (10x10 com números de 0 a 99)\n",
        "matriz_C = np.arange(100).reshape(10, 10)\n",
        "\n",
        "print(\"Matriz Original C:\")\n",
        "print(matriz_C)\n",
        "print(\"\\n\" + \"-\"*40 + \"\\n\")\n",
        "\n",
        "# Extrai os quatro blocos 5x5 usando fatiamento (slicing)\n",
        "bloco_superior_esquerdo = matriz_C[:5, :5]\n",
        "bloco_superior_direito = matriz_C[:5, 5:]\n",
        "bloco_inferior_esquerdo = matriz_C[5:, :5]\n",
        "bloco_inferior_direito = matriz_C[5:, 5:]\n",
        "\n",
        "matriz_reorganizada = np.block([\n",
        "    [bloco_inferior_direito, bloco_inferior_esquerdo],\n",
        "    [bloco_superior_direito, bloco_superior_esquerdo]\n",
        "])"
      ],
      "metadata": {
        "colab": {
          "base_uri": "https://localhost:8080/"
        },
        "id": "XzSOnG_qr7K1",
        "outputId": "d758289b-acb7-4b8a-90bb-8b16895290a8"
      },
      "execution_count": 3,
      "outputs": [
        {
          "output_type": "stream",
          "name": "stdout",
          "text": [
            "Matriz Original C:\n",
            "[[ 0  1  2  3  4  5  6  7  8  9]\n",
            " [10 11 12 13 14 15 16 17 18 19]\n",
            " [20 21 22 23 24 25 26 27 28 29]\n",
            " [30 31 32 33 34 35 36 37 38 39]\n",
            " [40 41 42 43 44 45 46 47 48 49]\n",
            " [50 51 52 53 54 55 56 57 58 59]\n",
            " [60 61 62 63 64 65 66 67 68 69]\n",
            " [70 71 72 73 74 75 76 77 78 79]\n",
            " [80 81 82 83 84 85 86 87 88 89]\n",
            " [90 91 92 93 94 95 96 97 98 99]]\n",
            "\n",
            "----------------------------------------\n",
            "\n"
          ]
        }
      ]
    },
    {
      "cell_type": "markdown",
      "source": [
        "**Exercise 5-4**"
      ],
      "metadata": {
        "id": "97F7AQNEoDAp"
      }
    },
    {
      "cell_type": "code",
      "source": [
        "def adicao_de_matrizes_loop(A, B):\n",
        "    \"\"\"\n",
        "    Soma duas matrizes, A e B, elemento a elemento usando laços for.\n",
        "\n",
        "    Args:\n",
        "        A: A primeira matriz (array NumPy).\n",
        "        B: A segunda matriz (array NumPy).\n",
        "\n",
        "    Returns:\n",
        "        Uma nova matriz que é a soma de A e B.\n",
        "\n",
        "    Raises:\n",
        "        ValueError: Se as matrizes A e B não tiverem as mesmas dimensões.\n",
        "    \"\"\"\n",
        "    # 1. Verifica se as dimensões são compatíveis antes de começar\n",
        "    if A.shape != B.shape:\n",
        "        raise ValueError(\"Erro: As matrizes devem ter as mesmas dimensões para serem somadas.\")\n",
        "\n",
        "    # 2. Cria uma matriz de resultado com o mesmo formato de A, preenchida com zeros\n",
        "    C = np.zeros_like(A)\n",
        "\n",
        "    # 3. Itera sobre as linhas (usando o número de linhas da matriz A)\n",
        "    for i in range(A.shape[0]):\n",
        "        # 4. Itera sobre as colunas (usando o número de colunas da matriz A)\n",
        "        for j in range(A.shape[1]):\n",
        "            # 5. Soma os elementos na posição (i, j) e armazena no resultado\n",
        "            C[i, j] = A[i, j] + B[i, j]\n",
        "\n",
        "    return C\n",
        "\n",
        "# --- Demonstração com matrizes de tamanhos iguais ---\n",
        "print(\"--- TESTE 1: Matrizes de tamanhos compatíveis ---\")\n",
        "\n",
        "# Cria duas matrizes 2x3 aleatórias\n",
        "matriz_A = np.random.randint(10, size=(2, 3))\n",
        "matriz_B = np.random.randint(10, size=(2, 3))\n",
        "\n",
        "print(\"Matriz A:\\n\", matriz_A)\n",
        "print(\"\\nMatriz B:\\n\", matriz_B)\n",
        "\n",
        "# Soma usando nossa função com loops\n",
        "resultado_loop = adicao_de_matrizes_loop(matriz_A, matriz_B)\n",
        "print(\"\\nResultado com a função de loops:\\n\", resultado_loop)\n",
        "\n",
        "# Soma usando a forma otimizada do NumPy para verificar\n",
        "resultado_numpy = matriz_A + matriz_B\n",
        "print(\"\\nResultado com o operador '+' do NumPy (para verificação):\\n\", resultado_numpy)\n",
        "\n",
        "print(\"\\nOs resultados são idênticos?\", np.array_equal(resultado_loop, resultado_numpy))\n",
        "\n",
        "print(\"\\n\" + \"=\"*50 + \"\\n\")\n",
        "print(\"--- TESTE 2: Matrizes de tamanhos incompatíveis ---\")\n",
        "\n",
        "# Cria duas matrizes com dimensões diferentes\n",
        "matriz_M = np.random.randint(10, size=(2, 3)) # 2 linhas, 3 colunas\n",
        "matriz_N = np.random.randint(10, size=(3, 2)) # 3 linhas, 2 colunas\n",
        "\n",
        "print(\"Matriz M (2x3):\\n\", matriz_M)\n",
        "print(\"\\nMatriz N (3x2):\\n\", matriz_N)\n",
        "\n",
        "# Tenta somar as matrizes incompatíveis\n",
        "try:\n",
        "    resultado_erro = adicao_de_matrizes_loop(matriz_M, matriz_N)\n",
        "except ValueError as e:\n",
        "    print(f\"\\nUma exceção foi capturada, como esperado:\")\n",
        "    print(e)"
      ],
      "metadata": {
        "colab": {
          "base_uri": "https://localhost:8080/"
        },
        "id": "lXov6JRxoFB8",
        "outputId": "d7d8ba9c-782d-48e6-bd4c-34a594c45be7"
      },
      "execution_count": 4,
      "outputs": [
        {
          "output_type": "stream",
          "name": "stdout",
          "text": [
            "--- TESTE 1: Matrizes de tamanhos compatíveis ---\n",
            "Matriz A:\n",
            " [[8 1 0]\n",
            " [1 6 9]]\n",
            "\n",
            "Matriz B:\n",
            " [[3 8 9]\n",
            " [9 5 2]]\n",
            "\n",
            "Resultado com a função de loops:\n",
            " [[11  9  9]\n",
            " [10 11 11]]\n",
            "\n",
            "Resultado com o operador '+' do NumPy (para verificação):\n",
            " [[11  9  9]\n",
            " [10 11 11]]\n",
            "\n",
            "Os resultados são idênticos? True\n",
            "\n",
            "==================================================\n",
            "\n",
            "--- TESTE 2: Matrizes de tamanhos incompatíveis ---\n",
            "Matriz M (2x3):\n",
            " [[4 6 7]\n",
            " [9 6 3]]\n",
            "\n",
            "Matriz N (3x2):\n",
            " [[4 6]\n",
            " [8 4]\n",
            " [7 3]]\n",
            "\n",
            "Uma exceção foi capturada, como esperado:\n",
            "Erro: As matrizes devem ter as mesmas dimensões para serem somadas.\n"
          ]
        }
      ]
    },
    {
      "cell_type": "code",
      "source": [],
      "metadata": {
        "id": "Wr_gtKF-sSEh"
      },
      "execution_count": null,
      "outputs": []
    }
  ]
}