{
  "nbformat": 4,
  "nbformat_minor": 0,
  "metadata": {
    "colab": {
      "provenance": [],
      "authorship_tag": "ABX9TyO4A841YMDOJU0Gud6os4Eb",
      "include_colab_link": true
    },
    "kernelspec": {
      "name": "python3",
      "display_name": "Python 3"
    },
    "language_info": {
      "name": "python"
    }
  },
  "cells": [
    {
      "cell_type": "markdown",
      "metadata": {
        "id": "view-in-github",
        "colab_type": "text"
      },
      "source": [
        "<a href=\"https://colab.research.google.com/github/arthur-siqueira/metodos-numericos/blob/main/matrix_exercise.ipynb\" target=\"_parent\"><img src=\"https://colab.research.google.com/assets/colab-badge.svg\" alt=\"Open In Colab\"/></a>"
      ]
    },
    {
      "cell_type": "markdown",
      "source": [
        "**Exercise 5-1**"
      ],
      "metadata": {
        "id": "ngxo-5bWC3Hl"
      }
    },
    {
      "cell_type": "code",
      "execution_count": 1,
      "metadata": {
        "colab": {
          "base_uri": "https://localhost:8080/"
        },
        "id": "HeqaocBPsd6Y",
        "outputId": "410a2764-d5b7-483b-9153-527b3b96a866"
      },
      "outputs": [
        {
          "output_type": "stream",
          "name": "stdout",
          "text": [
            "Matriz criada:\n",
            "[[ 0  1  2  3]\n",
            " [ 4  5  6  7]\n",
            " [ 8  9 10 11]]\n",
            "--------------------\n",
            "The matrix element at index (1,3) is 7.\n"
          ]
        }
      ],
      "source": [
        "import numpy as np\n",
        "\n",
        "matriz = np.arange(12).reshape(3, 4)\n",
        "\n",
        "print(\"Matriz criada:\")\n",
        "print(matriz)\n",
        "print(\"-\" * 20)\n",
        "\n",
        "linha_idx = 1\n",
        "coluna_idx = 3\n",
        "\n",
        "# Extrai o elemento usando os índices definidos\n",
        "elemento = matriz[linha_idx, coluna_idx]\n",
        "\n",
        "print(f\"The matrix element at index ({linha_idx},{coluna_idx}) is {elemento}.\")"
      ]
    }
  ]
}