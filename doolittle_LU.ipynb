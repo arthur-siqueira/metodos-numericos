{
  "nbformat": 4,
  "nbformat_minor": 0,
  "metadata": {
    "colab": {
      "provenance": [],
      "authorship_tag": "ABX9TyM/lyXQUVy+nx02eE6a0Zig"
    },
    "kernelspec": {
      "name": "python3",
      "display_name": "Python 3"
    },
    "language_info": {
      "name": "python"
    }
  },
  "cells": [
    {
      "cell_type": "markdown",
      "source": [
        "**Importação das bibliotecas**"
      ],
      "metadata": {
        "id": "p09WXGY30rpr"
      }
    },
    {
      "cell_type": "code",
      "execution_count": 1,
      "metadata": {
        "id": "yM7NJo3gywR_"
      },
      "outputs": [],
      "source": [
        "import numpy as np\n",
        "from scipy.linalg import lu"
      ]
    },
    {
      "cell_type": "markdown",
      "source": [
        "**Funções Auxiliares**"
      ],
      "metadata": {
        "id": "2zCQjVbT03J0"
      }
    },
    {
      "cell_type": "code",
      "source": [
        "def substituição_direta(L, b):\n",
        "  \"\"\"\n",
        "  Resolve o sistema triangular inferior Ly = b para y (Forward Substitution).\n",
        "  L tem 1s na diagonal - Método Doolittle.\n",
        "  \"\"\"\n",
        "  n = L.shape[0]\n",
        "  y = np.zeros(n, dtype=float)\n",
        "\n",
        "  for i in range(n):\n",
        "    sum_j = 0\n",
        "    for j in range(i):\n",
        "      sum_j += L[i, j] * y[j]\n",
        "      y[i] = b[i] - sum_j\n",
        "\n",
        "    return y"
      ],
      "metadata": {
        "id": "KdIeM9pI0job"
      },
      "execution_count": 2,
      "outputs": []
    }
  ]
}