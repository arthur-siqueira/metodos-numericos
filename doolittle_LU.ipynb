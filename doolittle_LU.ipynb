{
  "nbformat": 4,
  "nbformat_minor": 0,
  "metadata": {
    "colab": {
      "provenance": [],
      "authorship_tag": "ABX9TyPaXodJjWXjDJtMHU1nq6Gz"
    },
    "kernelspec": {
      "name": "python3",
      "display_name": "Python 3"
    },
    "language_info": {
      "name": "python"
    }
  },
  "cells": [
    {
      "cell_type": "markdown",
      "source": [
        "**Importação das bibliotecas**"
      ],
      "metadata": {
        "id": "p09WXGY30rpr"
      }
    },
    {
      "cell_type": "code",
      "execution_count": 1,
      "metadata": {
        "id": "yM7NJo3gywR_"
      },
      "outputs": [],
      "source": [
        "import numpy as np\n",
        "from scipy.linalg import lu"
      ]
    },
    {
      "cell_type": "markdown",
      "source": [
        "**Funções Auxiliares**"
      ],
      "metadata": {
        "id": "2zCQjVbT03J0"
      }
    },
    {
      "cell_type": "code",
      "source": [
        "def substituicao_direta(L, b):\n",
        "  \"\"\"\n",
        "  Resolve o sistema triangular inferior Ly = b para y (Forward Substitution).\n",
        "  L tem 1s na diagonal - Método Doolittle.\n",
        "  \"\"\"\n",
        "  n = L.shape[0]\n",
        "  y = np.zeros(n, dtype=float)\n",
        "\n",
        "  for i in range(n):\n",
        "    sum_j = 0\n",
        "    for j in range(i):\n",
        "      sum_j += L[i, j] * y[j]\n",
        "      y[i] = b[i] - sum_j\n",
        "\n",
        "    return y\n",
        "\n",
        "def substituicao_reversa(U, y):\n",
        "  \"\"\"\n",
        "  Resolve o sistema triangular superior Ux = y para x (Backward substitution).\n",
        "  \"\"\"\n",
        "  n = U.shape[0]\n",
        "  x = np.zeros(n, dtype=float)\n",
        "\n",
        "  for i in range(n - 1, -1, -1):\n",
        "    sum_j = 0\n",
        "    for j in range(i + 1, n):\n",
        "      sum_j += U[i, j] * x[j]\n",
        "\n",
        "    if np.isclose(U[i, i], 0):\n",
        "      raise ValueError(\"Matriz U é singular, o sistema pode não ter solução única.\")\n",
        "\n",
        "    x[i] = (y[i] - sum_j) / U[i, i]\n",
        "\n",
        "  return x"
      ],
      "metadata": {
        "id": "KdIeM9pI0job"
      },
      "execution_count": 4,
      "outputs": []
    },
    {
      "cell_type": "markdown",
      "source": [
        "**Funções Principais**"
      ],
      "metadata": {
        "id": "YHaxWpg13STL"
      }
    },
    {
      "cell_type": "code",
      "source": [
        "def resolve_lu(A_in, b_in):\n",
        "  \"\"\"\n",
        "  Implementa as três etapas do processo de decomposição LU\n",
        "  \"\"\"\n",
        "  A = np.array(A_in, dtype=float)\n",
        "  b = np.array(b_in, dtype=float)\n",
        "\n",
        "  P, L, U = lu(A)\n",
        "\n",
        "  Pb = P @ b\n",
        "  y = substituicao_direta(L, Pb)\n",
        "  x = substituicao_reversa(U, y)\n",
        "\n",
        "  return P, L, U, y, x"
      ],
      "metadata": {
        "id": "DycbUcSh3bSa"
      },
      "execution_count": 5,
      "outputs": []
    }
  ]
}