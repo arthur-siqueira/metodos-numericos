{
  "nbformat": 4,
  "nbformat_minor": 0,
  "metadata": {
    "colab": {
      "provenance": [],
      "authorship_tag": "ABX9TyNZWV0RYIBdKmgxaacwV85R",
      "include_colab_link": true
    },
    "kernelspec": {
      "name": "python3",
      "display_name": "Python 3"
    },
    "language_info": {
      "name": "python"
    }
  },
  "cells": [
    {
      "cell_type": "markdown",
      "metadata": {
        "id": "view-in-github",
        "colab_type": "text"
      },
      "source": [
        "<a href=\"https://colab.research.google.com/github/arthur-siqueira/metodos-numericos/blob/main/eliminacao_gaussiana.ipynb\" target=\"_parent\"><img src=\"https://colab.research.google.com/assets/colab-badge.svg\" alt=\"Open In Colab\"/></a>"
      ]
    },
    {
      "cell_type": "code",
      "execution_count": 1,
      "metadata": {
        "id": "r-zdV3NTIkn9"
      },
      "outputs": [],
      "source": [
        "import numpy as np\n",
        "import scipy.linalg as sla"
      ]
    },
    {
      "cell_type": "code",
      "source": [
        "# Função de substituição retroativa\n",
        "\n",
        "def substituicao_retroativa(A_escalonada, b_escalonado):\n",
        "  \"\"\"\n",
        "  Resolve um sistema linear superior triangular.\n",
        "  Recebe: Matriz A (triangular superior) e vetor b.\n",
        "  Retorna: Vetor solução x.\n",
        "  \"\"\"\n",
        "\n",
        "  n = len(b_escalonado)\n",
        "  x = np.zeros(n)\n",
        "\n",
        "  # Percorre as linhas de baixo para cima (n-1 até 0)\n",
        "  for i in range(n - 1, -1, -1):\n",
        "      # Calcula a soma dos termos já conhecidos (A[i, j] * x[j])\n",
        "      soma = np.dot(A_escalonada[i, i+1:], x[i+1:])\n",
        "\n",
        "      # Calcula o valor da variável x[i]\n",
        "      x[i] = (b_escalonado[i] - soma) / A_escalonada[i, i]\n",
        "\n",
        "  return x"
      ],
      "metadata": {
        "id": "-1rnIvoyI9uH"
      },
      "execution_count": 2,
      "outputs": []
    },
    {
      "cell_type": "code",
      "source": [
        "# Função de eliminação gaussiana completa\n",
        "\n",
        "def eliminacao_gaussiana_solver(A, b):\n",
        "  # Cria a matriz estendida\n",
        "    Ab = np.c_[A.astype(float), b.astype(float)] # Garante que os tipos são float para divisões\n",
        "    n = len(A)\n",
        "\n",
        "    # Processo de ESCALONAMENTO (Eliminação)\n",
        "    for c in range(n - 1): # c é o índice da coluna pivô\n",
        "        # Implementação de Pivotamento Parcial (Para maior robustez - Boa prática)\n",
        "        # Encontra o índice da linha com o maior valor absoluto na coluna c, de c para baixo\n",
        "        p = np.abs(Ab[c:, c]).argmax() + c\n",
        "\n",
        "        # Se o pivô não for o elemento Ab[c,c], troca as linhas c e p\n",
        "        if p != c:\n",
        "            Ab[[c, p]] = Ab[[p, c]]\n",
        "            # Verifica se o pivô é zero (o sistema pode não ter solução única)\n",
        "        if Ab[c, c] == 0:\n",
        "            raise ValueError(f\"O sistema não pode ser resolvido por este método: O pivô na coluna {c} é zero após o pivotamento.\")\n",
        "\n",
        "        # Faz a eliminação para as linhas l abaixo da linha c\n",
        "        for l in range(c + 1, n):\n",
        "            # Fator multiplicador (m)\n",
        "            m = Ab[l, c] / Ab[c, c]\n",
        "            # Nova linha l = Linha l - m * Linha pivô (c)\n",
        "            Ab[l] = Ab[l] - m * Ab[c]\n",
        "\n",
        "    # Extrai a nova matriz triangular superior e o vetor b\n",
        "    A_escalonada = Ab[:, :-1]\n",
        "    b_escalonado = Ab[:, -1]\n",
        "    # Processo de SUBSTITUIÇÃO RETROATIVA\n",
        "    x = substituicao_retroativa(A_escalonada, b_escalonado)\n",
        "\n",
        "    return x"
      ],
      "metadata": {
        "id": "Hc9FMYpzJpSY"
      },
      "execution_count": 3,
      "outputs": []
    },
    {
      "cell_type": "code",
      "source": [
        "# Definição dos sistemas de equações\n",
        "\n",
        "sistemas = {\n",
        "    \"(a)\": {\n",
        "        \"A\": np.array([[1, 1, 1], [4, 4, 2], [2, 1, -1]]),\n",
        "        \"b\": np.array([1, 2, 0])\n",
        "    },\n",
        "    \"(b)\": {\n",
        "        \"A\": np.array([[7, -7, 2], [-3, 1, 7], [7, 7, -72]]),\n",
        "        \"b\": np.array([1, 2, 7])\n",
        "    },\n",
        "    \"(c)\": {\n",
        "        \"A\": np.array([[1, 2, 3, 4], [2, 1, 3, 4], [3, 1, 3, 4], [4, 1, 4, 3]]),\n",
        "        \"b\": np.array([20, 22, 22, 24])\n",
        "    }\n",
        "}\n",
        "\n",
        "print(\"--- Comparação dos Resultados (Arthur's Solver vs. Scipy Solve) ---\\n\")\n",
        "\n",
        "for nome, sistema in sistemas.items():\n",
        "    A = sistema[\"A\"]\n",
        "    b = sistema[\"b\"]\n",
        "\n",
        "    # Tenta resolver com a função implementada\n",
        "    try:\n",
        "        solucao_propria = eliminacao_gaussiana_solver(A, b)\n",
        "\n",
        "        # Resolve com a função da biblioteca Scipy para comparação\n",
        "        solucao_scipy = sla.solve(A, b)\n",
        "\n",
        "        # Verifica a diferença entre as soluções\n",
        "        erro = np.linalg.norm(solucao_propria - solucao_scipy)\n",
        "\n",
        "        print(f\"Sistema {nome}:\")\n",
        "        print(f\"  Solução Própria (x): {solucao_propria}\")\n",
        "        print(f\"  Solução Scipy (x):   {solucao_scipy}\")\n",
        "        print(f\"  Erro Absoluto (Norma): {erro:.2e}\\n\")\n",
        "\n",
        "    except ValueError as e:\n",
        "        print(f\"Sistema {nome}: FALHA na solução própria. {e}\\n\")\n",
        "    except Exception as e:\n",
        "        print(f\"Sistema {nome}: FALHA na solução Scipy/Outro erro. Erro: {e}\\n\")"
      ],
      "metadata": {
        "colab": {
          "base_uri": "https://localhost:8080/"
        },
        "id": "FPiyFqhOKCXT",
        "outputId": "eb85afbd-6427-4c9c-e8d6-1134b7c6d8a0"
      },
      "execution_count": 5,
      "outputs": [
        {
          "output_type": "stream",
          "name": "stdout",
          "text": [
            "--- Comparação dos Resultados (Arthur's Solver vs. Scipy Solve) ---\n",
            "\n",
            "Sistema (a):\n",
            "  Solução Própria (x): [ 1. -1.  1.]\n",
            "  Solução Scipy (x):   [ 1. -1.  1.]\n",
            "  Erro Absoluto (Norma): 0.00e+00\n",
            "\n",
            "Sistema (b):\n",
            "  Solução Própria (x): [-5.48120301 -5.96992481 -1.21052632]\n",
            "  Solução Scipy (x):   [-5.48120301 -5.96992481 -1.21052632]\n",
            "  Erro Absoluto (Norma): 2.00e-15\n",
            "\n",
            "Sistema (c):\n",
            "  Solução Própria (x): [ 0.         -2.          4.57142857  2.57142857]\n",
            "  Solução Scipy (x):   [ 2.27595720e-15 -2.00000000e+00  4.57142857e+00  2.57142857e+00]\n",
            "  Erro Absoluto (Norma): 4.68e-15\n",
            "\n"
          ]
        }
      ]
    },
    {
      "cell_type": "code",
      "source": [],
      "metadata": {
        "id": "YEI4ZrtDKHkf"
      },
      "execution_count": null,
      "outputs": []
    }
  ]
}