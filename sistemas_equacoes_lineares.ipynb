{
  "nbformat": 4,
  "nbformat_minor": 0,
  "metadata": {
    "colab": {
      "provenance": [],
      "include_colab_link": true
    },
    "kernelspec": {
      "name": "python3",
      "display_name": "Python 3"
    },
    "language_info": {
      "name": "python"
    }
  },
  "cells": [
    {
      "cell_type": "markdown",
      "metadata": {
        "id": "view-in-github",
        "colab_type": "text"
      },
      "source": [
        "<a href=\"https://colab.research.google.com/github/arthur-siqueira/metodos-numericos/blob/main/sistemas_equacoes_lineares.ipynb\" target=\"_parent\"><img src=\"https://colab.research.google.com/assets/colab-badge.svg\" alt=\"Open In Colab\"/></a>"
      ]
    },
    {
      "cell_type": "markdown",
      "source": [
        "**Exemplo 2.1**                                                                             \n",
        "Classificar sistema linear, com relação a quantidade e existência de soluções"
      ],
      "metadata": {
        "id": "KRM10cC5UoUI"
      }
    },
    {
      "cell_type": "code",
      "execution_count": null,
      "metadata": {
        "id": "4quRJX_ZUGjt"
      },
      "outputs": [],
      "source": [
        "import numpy as np\n",
        "\n",
        "A = np.array([[2,3,5],[1,-1,10],[-1,1,-1]])\n",
        "b = np.array([10,20,5])"
      ]
    },
    {
      "cell_type": "code",
      "source": [
        "np.linalg.matrix_rank(A)"
      ],
      "metadata": {
        "colab": {
          "base_uri": "https://localhost:8080/"
        },
        "id": "gQl54hbGVZSE",
        "outputId": "680691bb-960d-4beb-e209-56dab8003fe1"
      },
      "execution_count": null,
      "outputs": [
        {
          "output_type": "execute_result",
          "data": {
            "text/plain": [
              "np.int64(3)"
            ]
          },
          "metadata": {},
          "execution_count": 3
        }
      ]
    },
    {
      "cell_type": "code",
      "source": [
        "np.linalg.matrix_rank(np.c_[A, b])"
      ],
      "metadata": {
        "colab": {
          "base_uri": "https://localhost:8080/"
        },
        "id": "NOldSBCZVdnq",
        "outputId": "75bb68b2-9068-4d41-cbbf-2a5927b76a2f"
      },
      "execution_count": null,
      "outputs": [
        {
          "output_type": "execute_result",
          "data": {
            "text/plain": [
              "np.int64(3)"
            ]
          },
          "metadata": {},
          "execution_count": 4
        }
      ]
    },
    {
      "cell_type": "code",
      "source": [
        "A.shape[1]"
      ],
      "metadata": {
        "colab": {
          "base_uri": "https://localhost:8080/"
        },
        "id": "klAvbW5XVmdS",
        "outputId": "d5e22c13-f883-47d1-9f8e-18d5cb8a8454"
      },
      "execution_count": null,
      "outputs": [
        {
          "output_type": "execute_result",
          "data": {
            "text/plain": [
              "3"
            ]
          },
          "metadata": {},
          "execution_count": 5
        }
      ]
    },
    {
      "cell_type": "markdown",
      "source": [
        "**Exercício 1.1** - Classifique os sistemas abaixo com relação a quantidade e existência de\n",
        "soluções."
      ],
      "metadata": {
        "id": "H5ggekeGVpRy"
      }
    },
    {
      "cell_type": "code",
      "source": [
        "# a)\n",
        "\n",
        "A = np.array([[1,2,3],[4,5,6],[7,8,9]])\n",
        "b = np.array([1,1,1])"
      ],
      "metadata": {
        "id": "9c_koRLQV5SC"
      },
      "execution_count": null,
      "outputs": []
    },
    {
      "cell_type": "code",
      "source": [
        "np.linalg.matrix_rank(A)"
      ],
      "metadata": {
        "colab": {
          "base_uri": "https://localhost:8080/"
        },
        "id": "uHMFBek3WQ2l",
        "outputId": "74709986-10e2-497c-f247-24ec25b52708"
      },
      "execution_count": null,
      "outputs": [
        {
          "output_type": "execute_result",
          "data": {
            "text/plain": [
              "np.int64(2)"
            ]
          },
          "metadata": {},
          "execution_count": 7
        }
      ]
    },
    {
      "cell_type": "code",
      "source": [
        "np.linalg.matrix_rank(np.c_[A, b])"
      ],
      "metadata": {
        "colab": {
          "base_uri": "https://localhost:8080/"
        },
        "id": "is16kYhnWYJ7",
        "outputId": "ec7d6594-f2b6-4f38-821f-b06816680084"
      },
      "execution_count": null,
      "outputs": [
        {
          "output_type": "execute_result",
          "data": {
            "text/plain": [
              "np.int64(2)"
            ]
          },
          "metadata": {},
          "execution_count": 8
        }
      ]
    },
    {
      "cell_type": "code",
      "source": [
        "A.shape[1]\n",
        "\n",
        "# Sistema Possível indeterminado"
      ],
      "metadata": {
        "colab": {
          "base_uri": "https://localhost:8080/"
        },
        "id": "6Py8VAYwWd0D",
        "outputId": "5f4e1803-978a-45f2-ec7f-6a90570af2af"
      },
      "execution_count": null,
      "outputs": [
        {
          "output_type": "execute_result",
          "data": {
            "text/plain": [
              "3"
            ]
          },
          "metadata": {},
          "execution_count": 9
        }
      ]
    },
    {
      "cell_type": "code",
      "source": [
        "# b)\n",
        "A = np.array([[2,3],[-4,-6]])\n",
        "b = np.array([10, -10])\n"
      ],
      "metadata": {
        "id": "xLv5IycJWvPi"
      },
      "execution_count": null,
      "outputs": []
    },
    {
      "cell_type": "code",
      "source": [
        "np.linalg.matrix_rank(A)"
      ],
      "metadata": {
        "colab": {
          "base_uri": "https://localhost:8080/"
        },
        "id": "yZ6mO0MTXFvW",
        "outputId": "eb1f57d4-2118-4e71-fcf6-c175b07d4cbc"
      },
      "execution_count": null,
      "outputs": [
        {
          "output_type": "execute_result",
          "data": {
            "text/plain": [
              "np.int64(1)"
            ]
          },
          "metadata": {},
          "execution_count": 11
        }
      ]
    },
    {
      "cell_type": "code",
      "source": [
        "np.linalg.matrix_rank(np.c_[A, b])"
      ],
      "metadata": {
        "colab": {
          "base_uri": "https://localhost:8080/"
        },
        "id": "wmL5-qQCXJ3r",
        "outputId": "35cc35eb-1a7d-43bf-a39f-3390c8f7e5f4"
      },
      "execution_count": null,
      "outputs": [
        {
          "output_type": "execute_result",
          "data": {
            "text/plain": [
              "np.int64(2)"
            ]
          },
          "metadata": {},
          "execution_count": 12
        }
      ]
    },
    {
      "cell_type": "code",
      "source": [
        "A.shape[1]\n",
        "\n",
        "# Sistema Impossível"
      ],
      "metadata": {
        "colab": {
          "base_uri": "https://localhost:8080/"
        },
        "id": "7kU5pqL-XRlb",
        "outputId": "2e4cb452-72ca-4d22-dba7-7e9155c0fbed"
      },
      "execution_count": null,
      "outputs": [
        {
          "output_type": "execute_result",
          "data": {
            "text/plain": [
              "2"
            ]
          },
          "metadata": {},
          "execution_count": 13
        }
      ]
    },
    {
      "cell_type": "markdown",
      "source": [
        "**Exercício 1.2**"
      ],
      "metadata": {
        "id": "E-WWxVc04zDC"
      }
    },
    {
      "cell_type": "code",
      "source": [
        "A = np.array([\n",
        "    [3, 4, -5,  1],\n",
        "    [0, 1,  1, -2],\n",
        "    [0, 0,  4, -5],\n",
        "    [0, 0,  0,  2]\n",
        "], dtype=float)\n",
        "b = np.array([-10, -1, 3, 2], dtype=float)\n",
        "A, b"
      ],
      "metadata": {
        "colab": {
          "base_uri": "https://localhost:8080/"
        },
        "id": "mrlDFZse42Q7",
        "outputId": "31b4a7a1-4e8d-4ea9-9b6c-9b01d9b75aea"
      },
      "execution_count": null,
      "outputs": [
        {
          "output_type": "execute_result",
          "data": {
            "text/plain": [
              "(array([[ 3.,  4., -5.,  1.],\n",
              "        [ 0.,  1.,  1., -2.],\n",
              "        [ 0.,  0.,  4., -5.],\n",
              "        [ 0.,  0.,  0.,  2.]]),\n",
              " array([-10.,  -1.,   3.,   2.]))"
            ]
          },
          "metadata": {},
          "execution_count": 19
        }
      ]
    },
    {
      "cell_type": "code",
      "source": [
        "def sist_lin_tri_sup(A: np.ndarray, b: np.ndarray) -> np.ndarray:\n",
        "    \"\"\"Resolve Ax=b para A triangular superior usando substituição retroativa.\"\"\"\n",
        "    A = A.astype(float)\n",
        "    b = b.astype(float)\n",
        "    n = A.shape[1]\n",
        "    x = np.zeros(n)\n",
        "    x[-1] = b[-1] / A[-1, -1]\n",
        "    for i in range(n-2, -1, -1):\n",
        "        soma = 0.0\n",
        "        for j in range(i+1, n):\n",
        "            soma += A[i, j] * x[j]\n",
        "        x[i] = (b[i] - soma) / A[i, i]\n",
        "    return x\n",
        "\n",
        "x = sist_lin_tri_sup(A, b)\n",
        "x"
      ],
      "metadata": {
        "colab": {
          "base_uri": "https://localhost:8080/"
        },
        "id": "KV1OLxoL48b4",
        "outputId": "527ffa87-3fcb-4b85-8dfa-7f686ddef29a"
      },
      "execution_count": null,
      "outputs": [
        {
          "output_type": "execute_result",
          "data": {
            "text/plain": [
              "array([ 1., -1.,  2.,  1.])"
            ]
          },
          "metadata": {},
          "execution_count": 20
        }
      ]
    },
    {
      "cell_type": "code",
      "source": [
        "# Passos explicitos\n",
        "\n",
        "steps = []\n",
        "n = A.shape[1]\n",
        "x_step = np.zeros(n)\n",
        "x_step[-1] = b[-1] / A[-1, -1]\n",
        "steps.append((n, f\"x_{n} = b_{n}/a_{n} = {b[-1]}/{A[-1,-1]} = {x_step[-1]:.1f}\"))\n",
        "for i in range(n-2, -1, -1):\n",
        "    s = sum(A[i, j] * x_step[j] for j in range(i+1, n))\n",
        "    x_step[i] = (b[i] - s) / A[i, i]\n",
        "    steps.append((i+1, f\"x_{i+1} = (b_{i+1} - \"+\n",
        "                 \" + \".join([f\"a_{i+1}{j+1} x_{j+1}\" for j in range(i+1, n)])+\n",
        "                 f\")/a_{i+1}{i+1} = ({b[i]} - {s})/{A[i,i]} = {x_step[i]:.1f}\"))\n",
        "\n",
        "for idx, txt in steps:\n",
        "    print(txt)\n",
        "\n",
        "x_step"
      ],
      "metadata": {
        "colab": {
          "base_uri": "https://localhost:8080/"
        },
        "id": "kHK-oP_46lyS",
        "outputId": "14c9faab-7ae5-4231-b2ff-12e35f7c7c13"
      },
      "execution_count": null,
      "outputs": [
        {
          "output_type": "stream",
          "name": "stdout",
          "text": [
            "x_4 = b_4/a_4 = 2.0/2.0 = 1.0\n",
            "x_3 = (b_3 - a_34 x_4)/a_33 = (3.0 - -5.0)/4.0 = 2.0\n",
            "x_2 = (b_2 - a_23 x_3 + a_24 x_4)/a_22 = (-1.0 - 0.0)/1.0 = -1.0\n",
            "x_1 = (b_1 - a_12 x_2 + a_13 x_3 + a_14 x_4)/a_11 = (-10.0 - -13.0)/3.0 = 1.0\n"
          ]
        },
        {
          "output_type": "execute_result",
          "data": {
            "text/plain": [
              "array([ 1., -1.,  2.,  1.])"
            ]
          },
          "metadata": {},
          "execution_count": 22
        }
      ]
    },
    {
      "cell_type": "code",
      "source": [
        "# Verificação (A,x = b)\n",
        "Ax = A.dot(x)\n",
        "print('A·x =', Ax)\n",
        "print('b   =', b)\n",
        "assert np.allclose(Ax, b), 'Solução não confere com b.'\n",
        "print('\\nConferido: Ax = b.')"
      ],
      "metadata": {
        "colab": {
          "base_uri": "https://localhost:8080/"
        },
        "id": "Pm2xAijF60dD",
        "outputId": "2d8acf4b-2387-4d0d-dbb2-25e688cab21e"
      },
      "execution_count": null,
      "outputs": [
        {
          "output_type": "stream",
          "name": "stdout",
          "text": [
            "A·x = [-10.  -1.   3.   2.]\n",
            "b   = [-10.  -1.   3.   2.]\n",
            "\n",
            "Conferido: Ax = b.\n"
          ]
        }
      ]
    },
    {
      "cell_type": "markdown",
      "source": [
        "**Exercício 1.3**"
      ],
      "metadata": {
        "id": "hcq_3ESS7Tg4"
      }
    },
    {
      "cell_type": "code",
      "source": [
        "A = np.array([\n",
        "    [3, 0, 0, 0],\n",
        "    [2, 1, 0, 0],\n",
        "    [1, 0, 1, 0],\n",
        "    [1, 1, 1, 1]\n",
        "], dtype=float)\n",
        "\n",
        "b = np.array([4, 2, 4, 2], dtype=float)\n",
        "A, b"
      ],
      "metadata": {
        "colab": {
          "base_uri": "https://localhost:8080/"
        },
        "id": "CQeMg6gf7WZa",
        "outputId": "2f9335e1-dae6-47ee-d39c-284db13adc87"
      },
      "execution_count": null,
      "outputs": [
        {
          "output_type": "execute_result",
          "data": {
            "text/plain": [
              "(array([[3., 0., 0., 0.],\n",
              "        [2., 1., 0., 0.],\n",
              "        [1., 0., 1., 0.],\n",
              "        [1., 1., 1., 1.]]),\n",
              " array([4., 2., 4., 2.]))"
            ]
          },
          "metadata": {},
          "execution_count": 24
        }
      ]
    },
    {
      "cell_type": "code",
      "source": [
        "def sist_lin_tri_inf(A: np.ndarray, b: np.ndarray) -> np.ndarray:\n",
        "  \"\"\"Resolve Ax=b para A triangular inferior usando substituição progressiva.\"\"\"\n",
        "  A = A.astype(float)\n",
        "  b = b.astype(float)\n",
        "  n = A.shape[1]\n",
        "  x = np.zeros(n)\n",
        "\n",
        "  x[0] = b[0] / A[0, 0]\n",
        "\n",
        "  for i in range(1, n):\n",
        "    soma = 0.0\n",
        "    for j in range(0, i):\n",
        "      soma += A[i, j] * x[j]\n",
        "    x[i] = (b[i] - soma) / A[i, i]\n",
        "  return x\n",
        "\n",
        "x = sist_lin_tri_inf(A, b)\n",
        "x"
      ],
      "metadata": {
        "colab": {
          "base_uri": "https://localhost:8080/"
        },
        "id": "14SaDvWq8JXy",
        "outputId": "4404dd90-22b4-46ec-8c13-b09963adf1d3"
      },
      "execution_count": null,
      "outputs": [
        {
          "output_type": "execute_result",
          "data": {
            "text/plain": [
              "array([ 1.33333333, -0.66666667,  2.66666667, -1.33333333])"
            ]
          },
          "metadata": {},
          "execution_count": 25
        }
      ]
    },
    {
      "cell_type": "code",
      "source": [
        "# Passos explícitos\n",
        "\n",
        "steps = []\n",
        "n = A.shape[1]\n",
        "x_step = np.zeros(n)\n",
        "x_step[0] = b[0] / A[0, 0]\n",
        "steps.append((1, f\"x_1 = b_1/a_11 = {b[0]}/{A[0, 0]} = {x_step[0]:.10g}\"))\n",
        "for i in range(1, n):\n",
        "  s = sum(A[i, j] * x_step[j] for j in range(0, i))\n",
        "  x_step[i] = (b[i] - s) / A[i, i]\n",
        "  left = \" + \".join([f\"a_{i+1}{j+1} x_{j+1}\" for j in range(0, i)]) or \"0\"\n",
        "  steps.append((i+1, f\"x_{i+1} = (b_{i+1} - {left})/a_{i+1}{i+1} = ({b[i]} - {s})/{A[i,i]} = {x_step[i]:.10g}\"))\n",
        "\n",
        "for idx, txt in steps:\n",
        "    print(txt)\n",
        "\n",
        "x_step"
      ],
      "metadata": {
        "colab": {
          "base_uri": "https://localhost:8080/"
        },
        "id": "hr_3aRw79PTS",
        "outputId": "e1b62bbd-cfe0-4115-adf8-2ef4d13d647a"
      },
      "execution_count": null,
      "outputs": [
        {
          "output_type": "stream",
          "name": "stdout",
          "text": [
            "x_1 = b_1/a_11 = 4.0/3.0 = 1.333333333\n",
            "x_2 = (b_2 - a_21 x_1)/a_22 = (2.0 - 2.6666666666666665)/1.0 = -0.6666666667\n",
            "x_3 = (b_3 - a_31 x_1 + a_32 x_2)/a_33 = (4.0 - 1.3333333333333333)/1.0 = 2.666666667\n",
            "x_4 = (b_4 - a_41 x_1 + a_42 x_2 + a_43 x_3)/a_44 = (2.0 - 3.333333333333334)/1.0 = -1.333333333\n"
          ]
        },
        {
          "output_type": "execute_result",
          "data": {
            "text/plain": [
              "array([ 1.33333333, -0.66666667,  2.66666667, -1.33333333])"
            ]
          },
          "metadata": {},
          "execution_count": 26
        }
      ]
    },
    {
      "cell_type": "code",
      "source": [
        "# Verificação (A,x = b)\n",
        "\n",
        "Ax = A.dot(x)\n",
        "print('A·x =', Ax)\n",
        "print('b   =', b)\n",
        "assert np.allclose(Ax, b), 'Solução não confere com b.'\n",
        "print('\\nConferido: Ax = b.')"
      ],
      "metadata": {
        "colab": {
          "base_uri": "https://localhost:8080/"
        },
        "id": "mzIHBe4Q-C5G",
        "outputId": "3ed9e598-9882-4a1c-d6db-7d2df8fbb9d4"
      },
      "execution_count": null,
      "outputs": [
        {
          "output_type": "stream",
          "name": "stdout",
          "text": [
            "A·x = [4. 2. 4. 2.]\n",
            "b   = [4. 2. 4. 2.]\n",
            "\n",
            "Conferido: Ax = b.\n"
          ]
        }
      ]
    },
    {
      "cell_type": "markdown",
      "source": [
        "**Exercício 1.4**"
      ],
      "metadata": {
        "id": "qBf22uGK-KKY"
      }
    },
    {
      "cell_type": "code",
      "source": [
        "from typing import Literal\n",
        "\n",
        "def _is_diagonal(A: np.ndarray, atol: float=1e-12) -> bool:\n",
        "  return np.allclose(A - np.diag(np.diag(A)), 0.0, atol=atol)\n",
        "\n",
        "def _is_upper(A: np.ndarray, atol: float=1e-12) -> bool:\n",
        "    # zeros na parte inferior estrita\n",
        "    return np.allclose(np.tril(A, k=-1), 0.0, atol=atol)\n",
        "\n",
        "def _is_lower(A: np.ndarray, atol: float=1e-12) -> bool:\n",
        "    # zeros na parte superior estrita\n",
        "    return np.allclose(np.triu(A, k=1), 0.0, atol=atol)\n",
        "\n",
        "def _solve_upper(A: np.ndarray, b: np.ndarray) -> np.ndarray:\n",
        "    n = A.shape[0]\n",
        "    x = np.zeros(n, dtype=float)\n",
        "    if np.any(np.isclose(np.diag(A), 0.0)):\n",
        "        raise np.linalg.LinAlgError('Matriz triangular superior singular (elemento diagonal zero).')\n",
        "    x[-1] = b[-1] / A[-1, -1]\n",
        "    for i in range(n-2, -1, -1):\n",
        "        s = float(np.dot(A[i, i+1:], x[i+1:]))\n",
        "        x[i] = (b[i] - s) / A[i, i]\n",
        "    return x\n",
        "\n",
        "def _solve_lower(A: np.ndarray, b: np.ndarray) -> np.ndarray:\n",
        "    n = A.shape[0]\n",
        "    x = np.zeros(n, dtype=float)\n",
        "    if np.any(np.isclose(np.diag(A), 0.0)):\n",
        "        raise np.linalg.LinAlgError('Matriz triangular inferior singular (elemento diagonal zero).')\n",
        "    x[0] = b[0] / A[0, 0]\n",
        "    for i in range(1, n):\n",
        "        s = float(np.dot(A[i, :i], x[:i]))\n",
        "        x[i] = (b[i] - s) / A[i, i]\n",
        "    return x\n",
        "\n",
        "def solve_trivial(A: np.ndarray, b: np.ndarray, *, atol: float=1e-12) -> tuple[np.ndarray, Literal['diagonal','upper','lower']]:\n",
        "    \"\"\"Resolve Ax=b quando A é diagonal, triangular superior ou triangular inferior.\n",
        "    Retorna (x, tipo), onde tipo∈{'diagonal','upper','lower'}.\n",
        "    \"\"\"\n",
        "    A = np.array(A, dtype=float)\n",
        "    b = np.array(b, dtype=float)\n",
        "    n, m = A.shape\n",
        "    if n != m:\n",
        "        raise ValueError('A deve ser quadrada.')\n",
        "    if b.shape not in [(n,), (n,1)]:\n",
        "        raise ValueError('b deve ter dimensão compatível com A.')\n",
        "    b = b.reshape(n)\n",
        "\n",
        "    if _is_diagonal(A, atol):\n",
        "        d = np.diag(A)\n",
        "        if np.any(np.isclose(d, 0.0, atol=atol)):\n",
        "            raise np.linalg.LinAlgError('Matriz diagonal singular (elemento diagonal zero).')\n",
        "        x = b / d\n",
        "        return x, 'diagonal'\n",
        "\n",
        "    if _is_upper(A, atol):\n",
        "        return _solve_upper(A, b), 'upper'\n",
        "\n",
        "    if _is_lower(A, atol):\n",
        "        return _solve_lower(A, b), 'lower'\n",
        "\n",
        "    raise ValueError('A não é diagonal, triangular superior nem triangular inferior (dentro da tolerância).')"
      ],
      "metadata": {
        "id": "v_VTJ0Fl-Ndp"
      },
      "execution_count": null,
      "outputs": []
    },
    {
      "cell_type": "code",
      "source": [
        "# Exemplo 3.2 — triangular superior\n",
        "A_sup = np.array([[3,4,-5,1],[0,1,1,-2],[0,0,4,-5],[0,0,0,2]], float)\n",
        "b_sup = np.array([-10,-1,3,2], float)\n",
        "x_sup, kind_sup = solve_trivial(A_sup, b_sup)\n",
        "print('tipo:', kind_sup, '| x =', x_sup)\n",
        "print('checagem sup:', np.allclose(A_sup@x_sup, b_sup))\n",
        "\n",
        "# Exemplo 3.3 — triangular inferior\n",
        "A_inf = np.array([[3,0,0,0],[2,1,0,0],[1,0,1,0],[1,1,1,1]], float)\n",
        "b_inf = np.array([4,2,4,2], float)\n",
        "x_inf, kind_inf = solve_trivial(A_inf, b_inf)\n",
        "print('tipo:', kind_inf, '| x =', x_inf)\n",
        "print('checagem inf:', np.allclose(A_inf@x_inf, b_inf))\n",
        "\n",
        "# Caso diagonal\n",
        "A_diag = np.diag([2, -3, 5])\n",
        "b_diag = np.array([6, 3, 10], float)\n",
        "x_diag, kind_diag = solve_trivial(A_diag, b_diag)\n",
        "print('tipo:', kind_diag, '| x =', x_diag)\n",
        "print('checagem diag:', np.allclose(A_diag@x_diag, b_diag))"
      ],
      "metadata": {
        "id": "kayzAqk5_7IT",
        "outputId": "cde65c02-d502-4a14-c19e-1507f287c411",
        "colab": {
          "base_uri": "https://localhost:8080/"
        }
      },
      "execution_count": null,
      "outputs": [
        {
          "output_type": "stream",
          "name": "stdout",
          "text": [
            "tipo: upper | x = [ 1. -1.  2.  1.]\n",
            "checagem sup: True\n",
            "tipo: lower | x = [ 1.33333333 -0.66666667  2.66666667 -1.33333333]\n",
            "checagem inf: True\n",
            "tipo: diagonal | x = [ 3. -1.  2.]\n",
            "checagem diag: True\n"
          ]
        }
      ]
    }
  ]
}